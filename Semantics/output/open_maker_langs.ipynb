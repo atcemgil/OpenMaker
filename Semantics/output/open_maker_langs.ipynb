{
 "cells": [
  {
   "cell_type": "markdown",
   "metadata": {},
   "source": [
    "# Discovery and Representation of Open Making Related Terms"
   ]
  },
  {
   "cell_type": "markdown",
   "metadata": {},
   "source": [
    "This notebook sketches the initial exercise on discovering the open making related keywords. The input text is harvested via a Web crawler that identifies and crawls semantically related wikipedia articles.   "
   ]
  },
  {
   "cell_type": "code",
   "execution_count": 1,
   "metadata": {
    "collapsed": true
   },
   "outputs": [],
   "source": [
    "from utils import tokenizer\n",
    "import nltk\n",
    "from nltk import FreqDist\n",
    "from math import log\n",
    "import json, csv"
   ]
  },
  {
   "cell_type": "markdown",
   "metadata": {},
   "source": [
    "## 1. Loading a reference English language corpus"
   ]
  },
  {
   "cell_type": "code",
   "execution_count": 2,
   "metadata": {
    "collapsed": false
   },
   "outputs": [
    {
     "data": {
      "text/plain": [
       "['adventure',\n",
       " 'belles_lettres',\n",
       " 'editorial',\n",
       " 'fiction',\n",
       " 'government',\n",
       " 'hobbies',\n",
       " 'humor',\n",
       " 'learned',\n",
       " 'lore',\n",
       " 'mystery',\n",
       " 'news',\n",
       " 'religion',\n",
       " 'reviews',\n",
       " 'romance',\n",
       " 'science_fiction']"
      ]
     },
     "execution_count": 2,
     "metadata": {},
     "output_type": "execute_result"
    }
   ],
   "source": [
    "from nltk.corpus import brown\n",
    "brown.categories()"
   ]
  },
  {
   "cell_type": "markdown",
   "metadata": {},
   "source": [
    "## 2. Stop words"
   ]
  },
  {
   "cell_type": "markdown",
   "metadata": {},
   "source": [
    "### 2.1 Standard stop words"
   ]
  },
  {
   "cell_type": "code",
   "execution_count": 3,
   "metadata": {
    "collapsed": false
   },
   "outputs": [
    {
     "name": "stdout",
     "output_type": "stream",
     "text": [
      "{\"he's\", 'her', 'whom', 'when', 'out', 'were', 'that', \"couldn't\", 'of', 'under', 'both', 'then', 'yourselves', 'for', 'during', 'more', \"can't\", 'down', \"shouldn't\", 'because', 'could', \"here's\", \"i'll\", 'how', 'hers', 'doing', 'there', \"haven't\", \"aren't\", 'until', 'we', \"how's\", 'would', \"he'd\", \"wasn't\", \"they're\", 'each', 'just', 'like', 'they', 'nor', 'off', \"it's\", 'it', 'from', 'again', \"she'd\", \"she's\", 'the', \"wouldn't\", 'at', \"we'd\", \"mustn't\", 'ours ', 'you', 'into', 'too', 'above', \"you've\", \"shan't\", \"you're\", 'if', \"don't\", \"isn't\", 'should', 'up', 'myself', 'http', 'themselves', \"we'll\", \"she'll\", 'so', 'them', 'had', 'been', 'my', \"who's\", 'most', \"they'll\", 'she', 'few', 'be', 'very', 'does', 'why', \"why's\", 'with', 'have', 'by', 'where', 'other', 'herself', 'ought', 'between', 'in', 'once', 'theirs', 'an', 'are', 'not', 'this', 'him', \"when's\", 'being', 'himself', 'and', 'which', 'who', 'yourself', 'is', 'or', 'these', 'what', 'no', \"doesn't\", 'after', \"they'd\", \"hadn't\", 'cannot', \"we're\", 'his', 'www', 'a', 'he', 'i', \"didn't\", 'any', 'only', \"let's\", 'did', 'but', 'ourselves', \"you'd\", \"he'll\", 'while', 'here', 'than', 'know', 'as', \"i'm\", \"weren't\", 'having', 'get', 'on', 'do', \"there's\", \"hasn't\", \"you'll\", 'some', 'itself', \"what's\", 'those', \"that's\", 'has', 'com', 'your', 'its', 'their', \"they've\", 'through', 'further', \"i'd\", 'over', 'below', 'r', 'to', 'all', 'was', 'can', \"we've\", 'before', 'about', \"i've\", 'our', 'own', 'yours', 'such', 'me', \"won't\", \"where's\", 'am', 'same'}\n"
     ]
    }
   ],
   "source": [
    "with open(\"data/stopwords_standard.txt\", \"r\") as f:\n",
    "    STOP_WORDS_STANDARD = set(f.read().strip().split(\"\\n\"))\n",
    "print(STOP_WORDS_STANDARD)"
   ]
  },
  {
   "cell_type": "markdown",
   "metadata": {},
   "source": [
    "### 2.2 Open-making related stop words"
   ]
  },
  {
   "cell_type": "code",
   "execution_count": 4,
   "metadata": {
    "collapsed": false
   },
   "outputs": [
    {
     "name": "stdout",
     "output_type": "stream",
     "text": [
      "{'may', 'also', 'almost', 'one', 'often', 'well', 'many'}\n"
     ]
    }
   ],
   "source": [
    "with open(\"data/stopwords_openmaker.txt\", \"r\") as f:\n",
    "    STOP_WORDS_OPENMAKER = set(f.read().strip().split(\"\\n\"))\n",
    "print(STOP_WORDS_OPENMAKER)"
   ]
  },
  {
   "cell_type": "markdown",
   "metadata": {},
   "source": [
    "## 3. Removing stop words from the reference English corpus"
   ]
  },
  {
   "cell_type": "code",
   "execution_count": 5,
   "metadata": {
    "collapsed": false
   },
   "outputs": [
    {
     "name": "stdout",
     "output_type": "stream",
     "text": [
      "{'whom', 'when', 'out', 'that', 'of', 'under', 'then', 'yourselves', 'during', \"shouldn't\", 'because', 'could', \"here's\", 'there', \"aren't\", 'until', 'we', 'would', \"he'd\", \"wasn't\", \"they're\", 'just', 'like', 'they', 'often', 'nor', 'off', 'it', \"she'd\", 'ours ', 'you', 'too', \"you're\", \"isn't\", 'should', 'up', 'myself', 'http', 'themselves', 'had', 'been', 'my', 'most', \"they'll\", 'she', 'few', 'almost', 'very', 'with', 'does', 'by', 'where', 'other', 'ought', 'between', 'in', 'theirs', 'not', 'this', \"when's\", 'being', 'yourself', 'and', 'which', 'who', 'is', 'or', 'these', \"doesn't\", 'after', 'also', 'www', 'a', 'i', 'only', 'may', 'than', \"weren't\", 'having', 'on', \"there's\", \"hasn't\", 'some', \"what's\", 'those', \"that's\", 'has', 'your', 'its', \"they've\", \"i'd\", 'was', 'below', 'can', 'well', 'before', 'many', 'about', \"i've\", 'our', 'own', 'yours', 'such', \"where's\", 'am', \"he's\", 'her', 'were', \"couldn't\", 'both', 'for', 'more', \"can't\", 'down', \"i'll\", 'how', 'hers', 'doing', \"haven't\", \"how's\", 'each', \"it's\", 'from', 'again', \"she's\", 'the', \"wouldn't\", 'one', 'at', \"we'd\", \"mustn't\", 'into', 'above', \"you've\", \"shan't\", 'if', \"don't\", \"we'll\", \"she'll\", 'so', 'them', \"who's\", 'be', 'why', \"why's\", 'have', 'herself', 'once', 'an', 'are', 'him', 'himself', 'what', 'no', \"they'd\", \"hadn't\", 'cannot', \"we're\", 'his', 'he', \"didn't\", 'any', \"let's\", 'did', 'but', 'ourselves', \"you'd\", \"he'll\", 'while', 'here', 'know', 'as', \"i'm\", 'get', 'do', \"you'll\", 'itself', 'com', 'their', 'through', 'further', 'over', 'r', 'to', 'all', \"we've\", 'me', \"won't\", 'same'}\n"
     ]
    }
   ],
   "source": [
    "# merging the two list together\n",
    "STOP_WORDS = STOP_WORDS_STANDARD.union(STOP_WORDS_OPENMAKER)\n",
    "print(STOP_WORDS)"
   ]
  },
  {
   "cell_type": "code",
   "execution_count": 6,
   "metadata": {
    "collapsed": true
   },
   "outputs": [],
   "source": [
    "# load english words from the Brown corpus removing stop words.\n",
    "english_freq_dist = FreqDist([w.lower() for w in nltk.corpus.brown.words()\n",
    "                              if w not in STOP_WORDS])"
   ]
  },
  {
   "cell_type": "markdown",
   "metadata": {},
   "source": [
    "## 4. Removing the rare words."
   ]
  },
  {
   "cell_type": "markdown",
   "metadata": {},
   "source": [
    "Below we remove rare words and get total count. The code below keeps all words with a occurance frequency above 2. "
   ]
  },
  {
   "cell_type": "code",
   "execution_count": 7,
   "metadata": {
    "collapsed": true
   },
   "outputs": [],
   "source": [
    "english_freq_dist = {k:v for k,v in english_freq_dist.items() if v > 2}"
   ]
  },
  {
   "cell_type": "markdown",
   "metadata": {},
   "source": [
    "## 5. Loading the input Open Maker corpus"
   ]
  },
  {
   "cell_type": "code",
   "execution_count": 8,
   "metadata": {
    "collapsed": true
   },
   "outputs": [],
   "source": [
    "# load the harvested text from wikipedia.\n",
    "with open(\"data/wikipedia.json\", \"r\") as f: OM_Corpus_text = f.read()\n",
    "OM_Corpus = json.loads(OM_Corpus_text)"
   ]
  },
  {
   "cell_type": "code",
   "execution_count": 10,
   "metadata": {
    "collapsed": false
   },
   "outputs": [
    {
     "name": "stdout",
     "output_type": "stream",
     "text": [
      "152\n"
     ]
    }
   ],
   "source": [
    "# The total number of wiki articles used:\n",
    "print(len(OM_Corpus))"
   ]
  },
  {
   "cell_type": "code",
   "execution_count": 11,
   "metadata": {
    "collapsed": false
   },
   "outputs": [
    {
     "data": {
      "text/plain": [
       "dict_keys(['theme.id', 'title', 'url', 'depth', 'text'])"
      ]
     },
     "execution_count": 11,
     "metadata": {},
     "output_type": "execute_result"
    }
   ],
   "source": [
    "# Column names of the the corpus.\n",
    "OM_Corpus[0].keys()"
   ]
  },
  {
   "cell_type": "code",
   "execution_count": 12,
   "metadata": {
    "collapsed": false
   },
   "outputs": [],
   "source": [
    "def display_articles(tid):\n",
    "    articles = [article for article in OM_Corpus if article['theme.id'] == tid]\n",
    "    for article in articles:\n",
    "        print(article['depth'],article['title'], article['url'])"
   ]
  },
  {
   "cell_type": "code",
   "execution_count": 13,
   "metadata": {
    "collapsed": false
   },
   "outputs": [
    {
     "name": "stdout",
     "output_type": "stream",
     "text": [
      "0 Do it yourself https://en.wikipedia.org/wiki/Do_it_yourself\n",
      "1 Edupunk https://en.wikipedia.org/wiki/Edupunk\n",
      "1 Prosumer https://en.wikipedia.org/wiki/Prosumer\n",
      "1 How-to https://en.wikipedia.org/wiki/How-to\n",
      "1 Kludge https://en.wikipedia.org/wiki/Kludge\n",
      "1 Bricolage https://en.wikipedia.org/wiki/Bricolage\n",
      "1 Junk box https://en.wikipedia.org/wiki/Junk_box\n",
      "1 Number 8 wire https://en.wikipedia.org/wiki/Number_8_wire\n",
      "1 Ready-to-assemble furniture https://en.wikipedia.org/wiki/Ready-to-assemble_furniture\n",
      "1 Open design https://en.wikipedia.org/wiki/Open_Design\n",
      "1 Hackerspace https://en.wikipedia.org/wiki/Hackerspace\n",
      "1 Instructables https://en.wikipedia.org/wiki/Instructables\n",
      "1 Handyman https://en.wikipedia.org/wiki/Handyman\n",
      "1 Circuit bending https://en.wikipedia.org/wiki/Circuit_bending\n",
      "1 Project GreenWorld International https://en.wikipedia.org/wiki/Project_GreenOman\n",
      "1 3D printing https://en.wikipedia.org/wiki/3D_printing\n"
     ]
    }
   ],
   "source": [
    "display_articles(0)"
   ]
  },
  {
   "cell_type": "code",
   "execution_count": 15,
   "metadata": {
    "collapsed": false
   },
   "outputs": [
    {
     "name": "stdout",
     "output_type": "stream",
     "text": [
      "0 Open design https://en.wikipedia.org/wiki/Open_design\n",
      "1 Knowledge commons https://en.wikipedia.org/wiki/Knowledge_commons\n",
      "1 Open Source Ecology https://en.wikipedia.org/wiki/Open_Source_Ecology\n",
      "1 Computer-aided design https://en.wikipedia.org/wiki/Computer-aided_design\n",
      "1 Open Source Initiative https://en.wikipedia.org/wiki/Open_Source_Initiative\n",
      "1 Open Architecture Network https://en.wikipedia.org/wiki/Open_Architecture_Network\n",
      "1 Open-source architecture https://en.wikipedia.org/wiki/Open-source_architecture\n",
      "1 Commons-based peer production https://en.wikipedia.org/wiki/Commons-based_peer_production\n",
      "1 Open standard https://en.wikipedia.org/wiki/Open_standard\n",
      "1 OpenCores https://en.wikipedia.org/wiki/OpenCores\n",
      "1 Co-creation https://en.wikipedia.org/wiki/Co-creation\n",
      "1 OpenBTS https://en.wikipedia.org/wiki/OpenBTS\n",
      "1 Open manufacturing https://en.wikipedia.org/wiki/Open_manufacturing\n",
      "1 Open-source hardware https://en.wikipedia.org/wiki/Open-source_hardware\n",
      "1 Open source appropriate technology https://en.wikipedia.org/wiki/Open-source_appropriate_technology\n",
      "1 Open standard https://en.wikipedia.org/wiki/Open_standardization\n",
      "1 Open-source software https://en.wikipedia.org/wiki/Open-source_software\n"
     ]
    }
   ],
   "source": [
    "display_articles(1)"
   ]
  },
  {
   "cell_type": "code",
   "execution_count": 16,
   "metadata": {
    "collapsed": false
   },
   "outputs": [
    {
     "name": "stdout",
     "output_type": "stream",
     "text": [
      "0 Sustainability https://en.wikipedia.org/wiki/Sustainability\n",
      "1 Sustainability standards and certification https://en.wikipedia.org/wiki/Sustainability_standards_and_certification\n",
      "1 Appropriate technology https://en.wikipedia.org/wiki/Appropriate_technology\n",
      "1 Sustainable development https://en.wikipedia.org/wiki/Sustainable_development\n",
      "1 Environmental issue https://en.wikipedia.org/wiki/Environmental_issue\n",
      "1 World Cities Summit https://en.wikipedia.org/wiki/World_Cities_Summit\n",
      "1 Ecopsychology https://en.wikipedia.org/wiki/Ecopsychology\n",
      "1 Book:Sustainability https://en.wikipedia.org/wiki/Book:Sustainability\n",
      "1 Sustainable design https://en.wikipedia.org/wiki/Sustainable_design\n",
      "1 Circles of Sustainability https://en.wikipedia.org/wiki/Circles_of_Sustainability\n",
      "1 Sustainability science https://en.wikipedia.org/wiki/Sustainability_science\n",
      "1 Sustainable living https://en.wikipedia.org/wiki/Sustainable_living\n",
      "1 Index of sustainability articles https://en.wikipedia.org/wiki/List_of_sustainability_topics\n",
      "1 Foresight (psychology) https://en.wikipedia.org/wiki/Foresight_(psychology)\n",
      "1 Sustainable tourism https://en.wikipedia.org/wiki/Sustainable_tourism\n",
      "1 Sustainability studies https://en.wikipedia.org/wiki/Sustainability_studies\n",
      "1 Computational sustainability https://en.wikipedia.org/wiki/Computational_sustainability\n",
      "1 Sociocultural evolution https://en.wikipedia.org/wiki/Sociocultural_evolution\n",
      "1 Introduced species https://en.wikipedia.org/wiki/Introduced_species\n",
      "1 Food miles https://en.wikipedia.org/wiki/Food_miles\n",
      "1 Sustainable capitalism https://en.wikipedia.org/wiki/Sustainable_Capitalism\n",
      "1 Carfree city https://en.wikipedia.org/wiki/Carfree_city\n",
      "1 Micro-sustainability https://en.wikipedia.org/wiki/Micro-sustainability\n",
      "1 Cradle-to-cradle design https://en.wikipedia.org/wiki/Cradle-to-cradle_design\n",
      "1 Sustainable city https://en.wikipedia.org/wiki/Sustainable_city\n",
      "1 Sustainability and systemic change resistance https://en.wikipedia.org/wiki/Sustainability_and_systemic_change_resistance\n",
      "1 Carbon footprint https://en.wikipedia.org/wiki/Carbon_footprint\n",
      "1 Sustainable sanitation https://en.wikipedia.org/wiki/Sustainable_sanitation\n",
      "1 Resource efficiency https://en.wikipedia.org/wiki/Resource_efficiency\n",
      "1 Environmental racism https://en.wikipedia.org/wiki/Environmental_racism\n",
      "1 Sustainable forest management https://en.wikipedia.org/wiki/Sustainable_forest_management\n",
      "1 Applied sustainability https://en.wikipedia.org/wiki/Applied_sustainability\n",
      "1 Population Matters https://en.wikipedia.org/wiki/Population_Matters\n",
      "1 Emissions trading https://en.wikipedia.org/wiki/Emissions_trading\n",
      "1 Extinction https://en.wikipedia.org/wiki/Extinction\n",
      "1 Human overpopulation https://en.wikipedia.org/wiki/Human_overpopulation\n",
      "1 Outline of sustainability https://en.wikipedia.org/wiki/Outline_of_sustainability\n",
      "1 Bibliography of sustainability https://en.wikipedia.org/wiki/Bibliography_of_sustainability\n",
      "1 Agenda 21 https://en.wikipedia.org/wiki/Agenda_21\n",
      "1 Renewable energy https://en.wikipedia.org/wiki/Renewable_energy\n"
     ]
    }
   ],
   "source": [
    "display_articles(2)"
   ]
  },
  {
   "cell_type": "code",
   "execution_count": 17,
   "metadata": {
    "collapsed": false
   },
   "outputs": [
    {
     "name": "stdout",
     "output_type": "stream",
     "text": [
      "0 Maker culture https://en.wikipedia.org/wiki/Maker_culture\n",
      "1 Modular design https://en.wikipedia.org/wiki/Modular_design\n",
      "1 Open-source car https://en.wikipedia.org/wiki/Open-source_car\n",
      "1 Electric vehicle conversion https://en.wikipedia.org/wiki/Electric_vehicle_conversion\n",
      "1 Thingiverse https://en.wikipedia.org/wiki/Thingiverse\n",
      "1 Fab lab https://en.wikipedia.org/wiki/Fab_Lab_(fabrication_laboratory)\n",
      "1 SparkFun Electronics https://en.wikipedia.org/wiki/SparkFun\n",
      "1 RepRap project https://en.wikipedia.org/wiki/RepRap\n",
      "1 Distributed manufacturing https://en.wikipedia.org/wiki/Distributed_manufacturing\n",
      "1 Craft production https://en.wikipedia.org/wiki/Craft_production\n",
      "1 Autonomous building https://en.wikipedia.org/wiki/Autonomous_building\n",
      "1 Open-source hardware https://en.wikipedia.org/wiki/Open_source_hardware\n",
      "1 Kit car https://en.wikipedia.org/wiki/Kit_car\n"
     ]
    }
   ],
   "source": [
    "display_articles(3)"
   ]
  },
  {
   "cell_type": "code",
   "execution_count": 18,
   "metadata": {
    "collapsed": false
   },
   "outputs": [
    {
     "name": "stdout",
     "output_type": "stream",
     "text": [
      "0 Innovation https://en.wikipedia.org/wiki/Innovation\n",
      "1 Competitive intelligence https://en.wikipedia.org/wiki/Creative_competitive_intelligence\n",
      "1 Multiple discovery https://en.wikipedia.org/wiki/Multiple_discovery\n",
      "1 UNDP Innovation Facility https://en.wikipedia.org/wiki/UNDP_Innovation_Facility\n",
      "1 Open Innovations (event) https://en.wikipedia.org/wiki/Open_Innovations_(Forum_and_Technology_Show)\n",
      "1 Trans-cultural diffusion https://en.wikipedia.org/wiki/Diffusion_(anthropology)\n",
      "1 Individual capital https://en.wikipedia.org/wiki/Individual_capital\n",
      "1 Innovation system https://en.wikipedia.org/wiki/Innovation_system\n",
      "1 Public domain https://en.wikipedia.org/wiki/Public_domain\n",
      "1 Ingenuity https://en.wikipedia.org/wiki/Ingenuity\n",
      "1 Sustainable Development Goals https://en.wikipedia.org/wiki/Sustainable_Development_Goals\n",
      "1 Participatory design https://en.wikipedia.org/wiki/Participatory_design\n",
      "1 Innovation management https://en.wikipedia.org/wiki/Innovation_management\n",
      "1 Information revolution https://en.wikipedia.org/wiki/Information_revolution\n",
      "1 Technology life cycle https://en.wikipedia.org/wiki/Technology_Life_Cycle\n",
      "1 Outcome-Driven Innovation https://en.wikipedia.org/wiki/Outcome-Driven_Innovation\n",
      "1 Value network https://en.wikipedia.org/wiki/Value_network\n",
      "1 Eric von Hippel https://en.wikipedia.org/wiki/Toolkits_for_User_Innovation\n",
      "1 Creative problem-solving https://en.wikipedia.org/wiki/Creative_problem_solving\n",
      "1 Innovation leadership https://en.wikipedia.org/wiki/Innovation_leadership\n",
      "1 Induced innovation https://en.wikipedia.org/wiki/Induced_innovation\n",
      "1 Invention https://en.wikipedia.org/wiki/Invention\n",
      "1 Pro-innovation bias https://en.wikipedia.org/wiki/Pro-innovation_bias\n",
      "1 List of countries by research and development spending https://en.wikipedia.org/wiki/List_of_countries_by_research_and_development_spending\n",
      "1 Technological innovation system https://en.wikipedia.org/wiki/Technological_innovation_system\n",
      "1 Communities of innovation https://en.wikipedia.org/wiki/Communities_of_innovation\n",
      "1 Open innovation https://en.wikipedia.org/wiki/Open_Innovation\n",
      "1 List of Russian inventors https://en.wikipedia.org/wiki/List_of_Russian_inventors\n",
      "1 Theories of technology https://en.wikipedia.org/wiki/Theories_of_technology\n",
      "1 Timeline of historic inventions https://en.wikipedia.org/wiki/Timeline_of_historic_inventions\n",
      "1 Creativity https://en.wikipedia.org/wiki/Creativity\n",
      "1 List of emerging technologies https://en.wikipedia.org/wiki/List_of_emerging_technologies\n",
      "1 Knowledge economy https://en.wikipedia.org/wiki/Knowledge_economy\n",
      "1 Global Innovation Index https://en.wikipedia.org/wiki/Global_Innovation_Index_(INSEAD)\n",
      "1 Research https://en.wikipedia.org/wiki/Research\n",
      "1 International Innovation Index https://en.wikipedia.org/wiki/Global_Innovation_Index_(Boston_Consulting_Group)\n",
      "1 Disruptive innovation https://en.wikipedia.org/wiki/Disruptive_innovation\n",
      "1 Hype cycle https://en.wikipedia.org/wiki/Hype_cycle\n",
      "1 Eco-innovation https://en.wikipedia.org/wiki/Ecoinnovation\n",
      "1 Virtual product development https://en.wikipedia.org/wiki/Virtual_product_development\n",
      "1 Deployment https://en.wikipedia.org/wiki/Deployment\n"
     ]
    }
   ],
   "source": [
    "display_articles(4)"
   ]
  },
  {
   "cell_type": "code",
   "execution_count": 19,
   "metadata": {
    "collapsed": false,
    "scrolled": true
   },
   "outputs": [
    {
     "name": "stdout",
     "output_type": "stream",
     "text": [
      "0 Collaboration https://en.wikipedia.org/wiki/Collaboration\n",
      "1 Wikinomics https://en.wikipedia.org/wiki/Wikinomics\n",
      "1 Collaborative editing https://en.wikipedia.org/wiki/Collaborative_editing\n",
      "1 Telepresence https://en.wikipedia.org/wiki/Telepresence\n",
      "1 Knowledge management https://en.wikipedia.org/wiki/Knowledge_management\n",
      "1 The Culture of Collaboration https://en.wikipedia.org/wiki/The_Culture_of_Collaboration\n",
      "1 Collaborative governance https://en.wikipedia.org/wiki/Collaborative_governance\n",
      "1 Community film https://en.wikipedia.org/wiki/Community_film\n",
      "1 Collaborative innovation network https://en.wikipedia.org/wiki/Collaborative_innovation_network\n",
      "1 Design thinking https://en.wikipedia.org/wiki/Design_thinking\n",
      "1 Role-based collaboration https://en.wikipedia.org/wiki/Role-based_collaboration\n",
      "1 Intranet portal https://en.wikipedia.org/wiki/Intranet_portal\n",
      "1 Critical thinking https://en.wikipedia.org/wiki/Critical_thinking\n",
      "1 Facilitation (business) https://en.wikipedia.org/wiki/Facilitation_(business)\n",
      "1 Collaborative software https://en.wikipedia.org/wiki/Collaborative_software\n",
      "1 Postpartisan https://en.wikipedia.org/wiki/Postpartisan\n",
      "1 Collaborative search engine https://en.wikipedia.org/wiki/Collaborative_search_engine\n",
      "1 Crowdsourcing https://en.wikipedia.org/wiki/Crowdsourcing\n",
      "1 Conference call https://en.wikipedia.org/wiki/Conference_call\n",
      "1 Collaborative leadership https://en.wikipedia.org/wiki/Collaborative_leadership\n",
      "1 Learning circle https://en.wikipedia.org/wiki/Learning_circle\n",
      "1 Unorganisation https://en.wikipedia.org/wiki/Unorganisation\n",
      "1 Digital collaboration https://en.wikipedia.org/wiki/Digital_Collaboration\n",
      "1 Collaborative translation https://en.wikipedia.org/wiki/Collaborative_translation\n",
      "1 Classical music written in collaboration https://en.wikipedia.org/wiki/Classical_music_written_in_collaboration\n"
     ]
    }
   ],
   "source": [
    "display_articles(5)"
   ]
  },
  {
   "cell_type": "markdown",
   "metadata": {},
   "source": [
    "## 6. Analyzing a specific corpus based on a theme"
   ]
  },
  {
   "cell_type": "code",
   "execution_count": 29,
   "metadata": {
    "collapsed": true
   },
   "outputs": [],
   "source": [
    "def get_title(Corpus, theme_id):\n",
    "    title = ''\n",
    "    for article in Corpus:\n",
    "        if article['theme.id'] == theme_id:\n",
    "            title = article['title']\n",
    "            break\n",
    "    return title"
   ]
  },
  {
   "cell_type": "markdown",
   "metadata": {},
   "source": [
    "### 6.0 Selecting the specific theme (a sub-corpus)."
   ]
  },
  {
   "cell_type": "code",
   "execution_count": 75,
   "metadata": {
    "collapsed": false
   },
   "outputs": [],
   "source": [
    "## For a different sub-corpus use a corresponding theme ID.\n",
    "current_theme_id = 1"
   ]
  },
  {
   "cell_type": "code",
   "execution_count": 76,
   "metadata": {
    "collapsed": true
   },
   "outputs": [],
   "source": [
    "current_title = get_title(OM_Corpus, current_theme_id)"
   ]
  },
  {
   "cell_type": "code",
   "execution_count": 77,
   "metadata": {
    "collapsed": false
   },
   "outputs": [
    {
     "name": "stdout",
     "output_type": "stream",
     "text": [
      "Open design :: Open_Design\n"
     ]
    }
   ],
   "source": [
    "output_fname = \"_\".join([word.capitalize() for word in current_title.split(\" \")])\n",
    "print(current_title, \"::\", output_fname)"
   ]
  },
  {
   "cell_type": "code",
   "execution_count": 78,
   "metadata": {
    "collapsed": true
   },
   "outputs": [],
   "source": [
    "# Note that theme.id: 0 corresponds to the the Do IT YOURSELF\n",
    "input_text = \" \".join([page['text'] for page in OM_Corpus if page['title'] == current_title])"
   ]
  },
  {
   "cell_type": "code",
   "execution_count": 79,
   "metadata": {
    "collapsed": false
   },
   "outputs": [
    {
     "name": "stdout",
     "output_type": "stream",
     "text": [
      "Open design \n",
      " RepRap \n",
      " general-purpose 3D printer that not only could be used to make structures and functional components for open-design projects but is an open-source project itself \n",
      " Uzebox is an open-design video game console \n",
      " Bug Labs \n",
      " open source hardware \n",
      " Zoybar \n",
      " open source guitar kit With 3-D printed body \n",
      " Open design \n",
      " is the development of physical products machines and systems through use of publicly shared design information Open design involves the making of both \n",
      " free and open-source software \n",
      " FOSS as well as \n",
      " open-source hardware \n",
      " The process is generally facilitated by the Internet and often performed without monetary compensation The goals and philosophy are identical to that of the \n",
      " open-source movement \n",
      " but are implemented for the development of physical products rather than software \n",
      " Open design is a form of \n",
      " co-creation \n",
      " where the final product is designed by the users rather than an external stakeholder such as a private company \n",
      " Sources of the open-design movement \n",
      " Current directions of the open-design movement \n",
      " Open machine design as compared to open-source software \n",
      " Open-design organizations \n",
      " Sources of the open-design movement \n",
      " Sharing of manufacturing information can be traced back to the 18th and 19th century \n",
      " Aggressive patenting put an end to that period of extensive knowledge sharing \n",
      " More recently principles of open design have been related to the \n",
      " free software \n",
      " and \n",
      " open source \n",
      " movements \n",
      " In \n",
      " Eric S Raymond \n",
      " Tim O'Reilly \n",
      " and \n",
      " Larry Augustin \n",
      " established \"open source\" as an alternative expression to \"free software \" and in \n",
      " Bruce Perens \n",
      " published \n",
      " the Open Source Definition \n",
      " In late Dr Sepehr Kiani a PhD in mechanical engineering from MIT realized that designers could benefit from open source policies and in early he convinced Dr Ryan Vallance and Dr Samir Nayfeh of the potential benefits of open design in machine design applications \n",
      " Together they established the \n",
      " Open Design Foundation \n",
      " ODF as a non-profit corporation and set out to develop an Open Design Definition \n",
      " The idea of open design was taken up either simultaneously or subsequently by several other groups and individuals The principles of open design are closely similar to those of \n",
      " open-source hardware \n",
      " design which emerged in March when Reinoud Lamberts of the \n",
      " Delft University of Technology \n",
      " proposed on his Open Design Circuits website the creation of a hardware design community in the spirit of free software \n",
      " Ronen Kadushin coined the title \"Open Design\" in his Masters thesis and the term was later formalized in the Open Design Manifesto \n",
      " Current directions of the open-design movement \n",
      " Play media \n",
      " Open Source Ecology \n",
      " open source farming and industrial machinery \n",
      " The open-design movement currently unites two trends On one hand people apply their skills and time on projects for the \n",
      " common good \n",
      " perhaps where funding or commercial interest is lacking for \n",
      " developing countries \n",
      " or to help spread ecological or cheaper technologies On the other hand open design may provide a framework for developing advanced projects and technologies that might be beyond the resource of any single company or country and involve people who without the \n",
      " copyleft \n",
      " mechanism might not collaborate otherwise There is now also a third trend where these two methods come together to use high-tech open-source e g 3D printing but customized local solutions for \n",
      " sustainable development \n",
      " Open machine design as compared to open-source software \n",
      " The open-design movement is currently fairly nascent but holds great potential for the future In some respects design and engineering are even more suited to open collaborative development than the increasingly common open-source software projects because with 3D models and photographs the concept can often be understood visually It is not even necessary that the project members speak the same languages to usefully collaborate \n",
      " However there are certain barriers to overcome for open design when compared to software development where there are mature and widely used tools available and the duplication and distribution of code cost next to nothing Creating testing and modifying physical designs is not quite so straightforward because of the effort time and cost required to create the physical artefact although with access to emerging flexible computer-controlled manufacturing techniques the complexity and effort of construction can be significantly reduced see tools mentioned in the \n",
      " fab lab \n",
      " article \n",
      " Open-design organizations \n",
      " VIA OpenBook \n",
      " reference design \n",
      " CAD \n",
      " visualisation \n",
      " Open design is currently a fledgling movement consisting of several unrelated or loosely related initiatives \n",
      " Many of these organizations are single funded projects while a few organizations are focusing on an area needing development In some cases e g \n",
      " Thingiverse \n",
      " for 3D printable designs or \n",
      " Appropedia \n",
      " for \n",
      " open source appropriate technology \n",
      " organizations are making an effort to create a centralized open source design repository as this enables innovation \n",
      " Notable organizations include \n",
      " AguaClara \n",
      " an open-source engineering group at Cornell University publishing a design tool and CAD designs for water treatment plants \n",
      " Elektor \n",
      " electronics \n",
      " Instructables \n",
      " miscellaneous \n",
      " Local Motors \n",
      " methods of transport vehicles \n",
      " LittleBits \n",
      " One Laptop Per Child \n",
      " a project to give every child in developing territories a laptop computer with open hardware and software \n",
      " OpenCores \n",
      " digital electronic hardware \n",
      " Open Architecture Network \n",
      " places to shelter \n",
      " Open Design Alliance \n",
      " CAD software \n",
      " Open Hardware and Design Alliance \n",
      " OHANDA \n",
      " OpenStructures \n",
      " OSP \n",
      " a modular construction model where everyone designs on the basis of one shared geometrical grid \n",
      " Open Source Ecology \n",
      " including solar cells \n",
      " Sensorica \n",
      " A collaborative open source hardware Open Value Network virtual organisation \n",
      " Thingiverse \n",
      " miscellaneous \n",
      " VOICED \n",
      " VIA OpenBook \n",
      " netbook has \n",
      " CAD \n",
      " files for the design licensed under the \n",
      " Creative Commons Attribution Share Alike Unported License \n",
      " Wikispeed \n",
      " open-source modular vehicles \n",
      " Zoetrope \n",
      " open design low cost wind turbine \n",
      " Free software portal \n",
      " 3D printing services \n",
      " Commons-based peer production \n",
      " Co-creation \n",
      " Knowledge commons \n",
      " Modular design \n",
      " OpenBTS \n",
      " Open manufacturing \n",
      " Open-source appropriate technology \n",
      " Open-source architecture \n",
      " Open-source hardware \n",
      " Open Source Initiative \n",
      " Open-source software \n",
      " Open standard \n",
      " and \n",
      " Open standardization Open design \n",
      " Redirected from \n",
      " Open Design \n",
      " RepRap \n",
      " general-purpose 3D printer that not only could be used to make structures and functional components for open-design projects but is an open-source project itself \n",
      " Uzebox is an open-design video game console \n",
      " Bug Labs \n",
      " open source hardware \n",
      " Zoybar \n",
      " open source guitar kit With 3-D printed body \n",
      " Open design \n",
      " is the development of physical products machines and systems through use of publicly shared design information Open design involves the making of both \n",
      " free and open-source software \n",
      " FOSS as well as \n",
      " open-source hardware \n",
      " The process is generally facilitated by the Internet and often performed without monetary compensation The goals and philosophy are identical to that of the \n",
      " open-source movement \n",
      " but are implemented for the development of physical products rather than software \n",
      " Open design is a form of \n",
      " co-creation \n",
      " where the final product is designed by the users rather than an external stakeholder such as a private company \n",
      " Sources of the open-design movement \n",
      " Current directions of the open-design movement \n",
      " Open machine design as compared to open-source software \n",
      " Open-design organizations \n",
      " Sources of the open-design movement \n",
      " Sharing of manufacturing information can be traced back to the 18th and 19th century \n",
      " Aggressive patenting put an end to that period of extensive knowledge sharing \n",
      " More recently principles of open design have been related to the \n",
      " free software \n",
      " and \n",
      " open source \n",
      " movements \n",
      " In \n",
      " Eric S Raymond \n",
      " Tim O'Reilly \n",
      " and \n",
      " Larry Augustin \n",
      " established \"open source\" as an alternative expression to \"free software \" and in \n",
      " Bruce Perens \n",
      " published \n",
      " the Open Source Definition \n",
      " In late Dr Sepehr Kiani a PhD in mechanical engineering from MIT realized that designers could benefit from open source policies and in early he convinced Dr Ryan Vallance and Dr Samir Nayfeh of the potential benefits of open design in machine design applications \n",
      " Together they established the \n",
      " Open Design Foundation \n",
      " ODF as a non-profit corporation and set out to develop an Open Design Definition \n",
      " The idea of open design was taken up either simultaneously or subsequently by several other groups and individuals The principles of open design are closely similar to those of \n",
      " open-source hardware \n",
      " design which emerged in March when Reinoud Lamberts of the \n",
      " Delft University of Technology \n",
      " proposed on his Open Design Circuits website the creation of a hardware design community in the spirit of free software \n",
      " Ronen Kadushin coined the title \"Open Design\" in his Masters thesis and the term was later formalized in the Open Design Manifesto \n",
      " Current directions of the open-design movement \n",
      " Play media \n",
      " Open Source Ecology \n",
      " open source farming and industrial machinery \n",
      " The open-design movement currently unites two trends On one hand people apply their skills and time on projects for the \n",
      " common good \n",
      " perhaps where funding or commercial interest is lacking for \n",
      " developing countries \n",
      " or to help spread ecological or cheaper technologies On the other hand open design may provide a framework for developing advanced projects and technologies that might be beyond the resource of any single company or country and involve people who without the \n",
      " copyleft \n",
      " mechanism might not collaborate otherwise There is now also a third trend where these two methods come together to use high-tech open-source e g 3D printing but customized local solutions for \n",
      " sustainable development \n",
      " Open machine design as compared to open-source software \n",
      " The open-design movement is currently fairly nascent but holds great potential for the future In some respects design and engineering are even more suited to open collaborative development than the increasingly common open-source software projects because with 3D models and photographs the concept can often be understood visually It is not even necessary that the project members speak the same languages to usefully collaborate \n",
      " However there are certain barriers to overcome for open design when compared to software development where there are mature and widely used tools available and the duplication and distribution of code cost next to nothing Creating testing and modifying physical designs is not quite so straightforward because of the effort time and cost required to create the physical artefact although with access to emerging flexible computer-controlled manufacturing techniques the complexity and effort of construction can be significantly reduced see tools mentioned in the \n",
      " fab lab \n",
      " article \n",
      " Open-design organizations \n",
      " VIA OpenBook \n",
      " reference design \n",
      " CAD \n",
      " visualisation \n",
      " Open design is currently a fledgling movement consisting of several unrelated or loosely related initiatives \n",
      " Many of these organizations are single funded projects while a few organizations are focusing on an area needing development In some cases e g \n",
      " Thingiverse \n",
      " for 3D printable designs or \n",
      " Appropedia \n",
      " for \n",
      " open source appropriate technology \n",
      " organizations are making an effort to create a centralized open source design repository as this enables innovation \n",
      " Notable organizations include \n",
      " AguaClara \n",
      " an open-source engineering group at Cornell University publishing a design tool and CAD designs for water treatment plants \n",
      " Elektor \n",
      " electronics \n",
      " Instructables \n",
      " miscellaneous \n",
      " Local Motors \n",
      " methods of transport vehicles \n",
      " LittleBits \n",
      " One Laptop Per Child \n",
      " a project to give every child in developing territories a laptop computer with open hardware and software \n",
      " OpenCores \n",
      " digital electronic hardware \n",
      " Open Architecture Network \n",
      " places to shelter \n",
      " Open Design Alliance \n",
      " CAD software \n",
      " Open Hardware and Design Alliance \n",
      " OHANDA \n",
      " OpenStructures \n",
      " OSP \n",
      " a modular construction model where everyone designs on the basis of one shared geometrical grid \n",
      " Open Source Ecology \n",
      " including solar cells \n",
      " Sensorica \n",
      " A collaborative open source hardware Open Value Network virtual organisation \n",
      " Thingiverse \n",
      " miscellaneous \n",
      " VOICED \n",
      " VIA OpenBook \n",
      " netbook has \n",
      " CAD \n",
      " files for the design licensed under the \n",
      " Creative Commons Attribution Share Alike Unported License \n",
      " Wikispeed \n",
      " open-source modular vehicles \n",
      " Zoetrope \n",
      " open design low cost wind turbine \n",
      " Free software portal \n",
      " 3D printing services \n",
      " Commons-based peer production \n",
      " Co-creation \n",
      " Knowledge commons \n",
      " Modular design \n",
      " OpenBTS \n",
      " Open manufacturing \n",
      " Open-source appropriate technology \n",
      " Open-source architecture \n",
      " Open-source hardware \n",
      " Open Source Initiative \n",
      " Open-source software \n",
      " Open standard \n",
      " and \n",
      " Open standardization\n"
     ]
    }
   ],
   "source": [
    "print(input_text)"
   ]
  },
  {
   "cell_type": "code",
   "execution_count": 80,
   "metadata": {
    "collapsed": false
   },
   "outputs": [
    {
     "name": "stdout",
     "output_type": "stream",
     "text": [
      "2150 Open design\n"
     ]
    }
   ],
   "source": [
    "# Tokenizing the input text:\n",
    "tokenized = tokenizer.tokenize_words(input_text)\n",
    "number_of_words = len(tokenized)\n",
    "print(number_of_words ,current_title)"
   ]
  },
  {
   "cell_type": "markdown",
   "metadata": {},
   "source": [
    "### 6.1 Computing frequency distributions of each token, i.e word, term, pancuation, etc."
   ]
  },
  {
   "cell_type": "code",
   "execution_count": 81,
   "metadata": {
    "collapsed": true
   },
   "outputs": [],
   "source": [
    "input_freq_dist = FreqDist(tokenized)"
   ]
  },
  {
   "cell_type": "code",
   "execution_count": 49,
   "metadata": {
    "collapsed": false
   },
   "outputs": [
    {
     "data": {
      "text/plain": [
       "[('\\n', 472),\n",
       " ('the', 100),\n",
       " ('of', 72),\n",
       " ('and', 66),\n",
       " ('to', 59),\n",
       " ('a', 40),\n",
       " ('diy', 38),\n",
       " ('in', 38),\n",
       " ('\"', 26),\n",
       " ('as', 21),\n",
       " ('on', 20),\n",
       " ('this', 17),\n",
       " ('or', 17),\n",
       " ('by', 16),\n",
       " ('with', 14),\n",
       " ('it', 13),\n",
       " ('how', 13),\n",
       " ('for', 12),\n",
       " ('is', 12),\n",
       " ('home', 11)]"
      ]
     },
     "execution_count": 49,
     "metadata": {},
     "output_type": "execute_result"
    }
   ],
   "source": [
    "input_freq_dist.most_common(20)"
   ]
  },
  {
   "cell_type": "markdown",
   "metadata": {},
   "source": [
    "### 6.2 Removing punctuation and stopwords from the input corpus"
   ]
  },
  {
   "cell_type": "code",
   "execution_count": 82,
   "metadata": {
    "collapsed": false
   },
   "outputs": [
    {
     "data": {
      "text/plain": [
       "[('open', 83),\n",
       " ('design', 63),\n",
       " ('open-source', 30),\n",
       " ('source', 26),\n",
       " ('software', 26),\n",
       " ('open-design', 20),\n",
       " ('hardware', 18),\n",
       " ('movement', 16),\n",
       " ('development', 12),\n",
       " ('organizations', 12),\n",
       " ('3d', 10),\n",
       " ('projects', 10),\n",
       " ('free', 10),\n",
       " ('physical', 8),\n",
       " ('designs', 8),\n",
       " ('cad', 8),\n",
       " ('project', 6),\n",
       " ('machine', 6),\n",
       " ('compared', 6),\n",
       " ('manufacturing', 6),\n",
       " ('dr', 6),\n",
       " ('engineering', 6),\n",
       " ('technology', 6),\n",
       " ('currently', 6),\n",
       " ('developing', 6),\n",
       " ('cost', 6),\n",
       " ('effort', 6),\n",
       " ('modular', 6),\n",
       " ('used', 4),\n",
       " ('products', 4),\n",
       " ('use', 4),\n",
       " ('shared', 4),\n",
       " ('information', 4),\n",
       " ('making', 4),\n",
       " ('without', 4),\n",
       " ('rather', 4),\n",
       " ('co-creation', 4),\n",
       " ('company', 4),\n",
       " ('sources', 4),\n",
       " ('current', 4),\n",
       " ('directions', 4),\n",
       " ('sharing', 4),\n",
       " ('knowledge', 4),\n",
       " ('principles', 4),\n",
       " ('related', 4),\n",
       " ('established', 4),\n",
       " ('definition', 4),\n",
       " ('potential', 4),\n",
       " ('together', 4),\n",
       " ('several', 4),\n",
       " ('university', 4),\n",
       " ('ecology', 4),\n",
       " ('two', 4),\n",
       " ('hand', 4),\n",
       " ('people', 4),\n",
       " ('time', 4),\n",
       " ('common', 4),\n",
       " ('technologies', 4),\n",
       " ('might', 4),\n",
       " ('single', 4),\n",
       " ('collaborate', 4),\n",
       " ('methods', 4),\n",
       " ('e', 4),\n",
       " ('g', 4),\n",
       " ('printing', 4),\n",
       " ('local', 4),\n",
       " ('even', 4),\n",
       " ('collaborative', 4),\n",
       " ('tools', 4),\n",
       " ('create', 4),\n",
       " ('construction', 4),\n",
       " ('via', 4),\n",
       " ('openbook', 4),\n",
       " ('thingiverse', 4),\n",
       " ('appropriate', 4),\n",
       " ('miscellaneous', 4),\n",
       " ('vehicles', 4),\n",
       " ('laptop', 4),\n",
       " ('child', 4),\n",
       " ('architecture', 4)]"
      ]
     },
     "execution_count": 82,
     "metadata": {},
     "output_type": "execute_result"
    }
   ],
   "source": [
    "for stopword in STOP_WORDS:\n",
    "    if stopword in input_freq_dist:\n",
    "        del input_freq_dist[stopword]\n",
    "        \n",
    "for punctuation in tokenizer.CHARACTERS_TO_SPLIT:\n",
    "    if punctuation in input_freq_dist:\n",
    "        del input_freq_dist[punctuation]\n",
    "\n",
    "# Re-control most common words after cleaning:\n",
    "input_freq_dist.most_common(80)"
   ]
  },
  {
   "cell_type": "markdown",
   "metadata": {},
   "source": [
    "### 6.3 Removing rare words from input distribution"
   ]
  },
  {
   "cell_type": "code",
   "execution_count": 83,
   "metadata": {
    "collapsed": true
   },
   "outputs": [],
   "source": [
    "input_freq_dist = {k:v for k,v in input_freq_dist.items() if v > 1}"
   ]
  },
  {
   "cell_type": "markdown",
   "metadata": {},
   "source": [
    "## 7. Comparing input vs English corpus volumes"
   ]
  },
  {
   "cell_type": "markdown",
   "metadata": {},
   "source": [
    "### 7.1 Total words (after cleaning) "
   ]
  },
  {
   "cell_type": "code",
   "execution_count": 84,
   "metadata": {
    "collapsed": false
   },
   "outputs": [
    {
     "data": {
      "text/plain": [
       "(1240, 679519)"
      ]
     },
     "execution_count": 84,
     "metadata": {},
     "output_type": "execute_result"
    }
   ],
   "source": [
    "n_input = sum(input_freq_dist.values())\n",
    "n_english = sum(english_freq_dist.values())\n",
    "n_input, n_english"
   ]
  },
  {
   "cell_type": "markdown",
   "metadata": {},
   "source": [
    "### 7.2 Unique words (after cleaning)"
   ]
  },
  {
   "cell_type": "code",
   "execution_count": 85,
   "metadata": {
    "collapsed": false
   },
   "outputs": [
    {
     "data": {
      "text/plain": [
       "(377, 20591)"
      ]
     },
     "execution_count": 85,
     "metadata": {},
     "output_type": "execute_result"
    }
   ],
   "source": [
    "n_unique_word_input = len(input_freq_dist.items())\n",
    "n_unique_word_brown = len(english_freq_dist.items())\n",
    "n_unique_word_input, n_unique_word_brown"
   ]
  },
  {
   "cell_type": "markdown",
   "metadata": {},
   "source": [
    "### 7.3 Cleaned set of input words/terms"
   ]
  },
  {
   "cell_type": "markdown",
   "metadata": {},
   "source": [
    "List of words in the corpus in case, for a visual inspection. Such inspections will be used both to improve tokenization as well as filtering."
   ]
  },
  {
   "cell_type": "code",
   "execution_count": 86,
   "metadata": {
    "collapsed": false
   },
   "outputs": [
    {
     "data": {
      "text/plain": [
       "{'18th': 2,\n",
       " '19th': 2,\n",
       " '3-d': 2,\n",
       " '3d': 10,\n",
       " 'access': 2,\n",
       " 'advanced': 2,\n",
       " 'aggressive': 2,\n",
       " 'aguaclara': 2,\n",
       " 'alike': 2,\n",
       " 'alliance': 4,\n",
       " 'alternative': 2,\n",
       " 'although': 2,\n",
       " 'applications': 2,\n",
       " 'apply': 2,\n",
       " 'appropedia': 2,\n",
       " 'appropriate': 4,\n",
       " 'architecture': 4,\n",
       " 'area': 2,\n",
       " 'artefact': 2,\n",
       " 'article': 2,\n",
       " 'attribution': 2,\n",
       " 'augustin': 2,\n",
       " 'available': 2,\n",
       " 'back': 2,\n",
       " 'barriers': 2,\n",
       " 'basis': 2,\n",
       " 'benefit': 2,\n",
       " 'benefits': 2,\n",
       " 'beyond': 2,\n",
       " 'body': 2,\n",
       " 'bruce': 2,\n",
       " 'bug': 2,\n",
       " 'cad': 8,\n",
       " 'cases': 2,\n",
       " 'cells': 2,\n",
       " 'centralized': 2,\n",
       " 'century': 2,\n",
       " 'certain': 2,\n",
       " 'cheaper': 2,\n",
       " 'child': 4,\n",
       " 'circuits': 2,\n",
       " 'closely': 2,\n",
       " 'co-creation': 4,\n",
       " 'code': 2,\n",
       " 'coined': 2,\n",
       " 'collaborate': 4,\n",
       " 'collaborative': 4,\n",
       " 'come': 2,\n",
       " 'commercial': 2,\n",
       " 'common': 4,\n",
       " 'commons': 4,\n",
       " 'commons-based': 2,\n",
       " 'community': 2,\n",
       " 'company': 4,\n",
       " 'compared': 6,\n",
       " 'compensation': 2,\n",
       " 'complexity': 2,\n",
       " 'components': 2,\n",
       " 'computer': 2,\n",
       " 'computer-controlled': 2,\n",
       " 'concept': 2,\n",
       " 'consisting': 2,\n",
       " 'console': 2,\n",
       " 'construction': 4,\n",
       " 'convinced': 2,\n",
       " 'copyleft': 2,\n",
       " 'cornell': 2,\n",
       " 'corporation': 2,\n",
       " 'cost': 6,\n",
       " 'countries': 2,\n",
       " 'country': 2,\n",
       " 'create': 4,\n",
       " 'creating': 2,\n",
       " 'creation': 2,\n",
       " 'creative': 2,\n",
       " 'current': 4,\n",
       " 'currently': 6,\n",
       " 'customized': 2,\n",
       " 'definition': 4,\n",
       " 'delft': 2,\n",
       " 'design': 63,\n",
       " 'designed': 2,\n",
       " 'designers': 2,\n",
       " 'designs': 8,\n",
       " 'develop': 2,\n",
       " 'developing': 6,\n",
       " 'development': 12,\n",
       " 'digital': 2,\n",
       " 'directions': 4,\n",
       " 'distribution': 2,\n",
       " 'dr': 6,\n",
       " 'duplication': 2,\n",
       " 'e': 4,\n",
       " 'early': 2,\n",
       " 'ecological': 2,\n",
       " 'ecology': 4,\n",
       " 'effort': 6,\n",
       " 'either': 2,\n",
       " 'electronic': 2,\n",
       " 'electronics': 2,\n",
       " 'elektor': 2,\n",
       " 'emerged': 2,\n",
       " 'emerging': 2,\n",
       " 'enables': 2,\n",
       " 'end': 2,\n",
       " 'engineering': 6,\n",
       " 'eric': 2,\n",
       " 'established': 4,\n",
       " 'even': 4,\n",
       " 'every': 2,\n",
       " 'everyone': 2,\n",
       " 'expression': 2,\n",
       " 'extensive': 2,\n",
       " 'external': 2,\n",
       " 'fab': 2,\n",
       " 'facilitated': 2,\n",
       " 'fairly': 2,\n",
       " 'farming': 2,\n",
       " 'files': 2,\n",
       " 'final': 2,\n",
       " 'fledgling': 2,\n",
       " 'flexible': 2,\n",
       " 'focusing': 2,\n",
       " 'form': 2,\n",
       " 'formalized': 2,\n",
       " 'foss': 2,\n",
       " 'foundation': 2,\n",
       " 'framework': 2,\n",
       " 'free': 10,\n",
       " 'functional': 2,\n",
       " 'funded': 2,\n",
       " 'funding': 2,\n",
       " 'future': 2,\n",
       " 'g': 4,\n",
       " 'game': 2,\n",
       " 'general-purpose': 2,\n",
       " 'generally': 2,\n",
       " 'geometrical': 2,\n",
       " 'give': 2,\n",
       " 'goals': 2,\n",
       " 'good': 2,\n",
       " 'great': 2,\n",
       " 'grid': 2,\n",
       " 'group': 2,\n",
       " 'groups': 2,\n",
       " 'guitar': 2,\n",
       " 'hand': 4,\n",
       " 'hardware': 18,\n",
       " 'help': 2,\n",
       " 'high-tech': 2,\n",
       " 'holds': 2,\n",
       " 'however': 2,\n",
       " 'idea': 2,\n",
       " 'identical': 2,\n",
       " 'implemented': 2,\n",
       " 'include': 2,\n",
       " 'including': 2,\n",
       " 'increasingly': 2,\n",
       " 'individuals': 2,\n",
       " 'industrial': 2,\n",
       " 'information': 4,\n",
       " 'initiative': 2,\n",
       " 'initiatives': 2,\n",
       " 'innovation': 2,\n",
       " 'instructables': 2,\n",
       " 'interest': 2,\n",
       " 'internet': 2,\n",
       " 'involve': 2,\n",
       " 'involves': 2,\n",
       " 'kadushin': 2,\n",
       " 'kiani': 2,\n",
       " 'kit': 2,\n",
       " 'knowledge': 4,\n",
       " 'lab': 2,\n",
       " 'labs': 2,\n",
       " 'lacking': 2,\n",
       " 'lamberts': 2,\n",
       " 'languages': 2,\n",
       " 'laptop': 4,\n",
       " 'larry': 2,\n",
       " 'late': 2,\n",
       " 'later': 2,\n",
       " 'license': 2,\n",
       " 'licensed': 2,\n",
       " 'littlebits': 2,\n",
       " 'local': 4,\n",
       " 'loosely': 2,\n",
       " 'low': 2,\n",
       " 'machine': 6,\n",
       " 'machinery': 2,\n",
       " 'machines': 2,\n",
       " 'make': 2,\n",
       " 'making': 4,\n",
       " 'manifesto': 2,\n",
       " 'manufacturing': 6,\n",
       " 'march': 2,\n",
       " 'masters': 2,\n",
       " 'mature': 2,\n",
       " 'mechanical': 2,\n",
       " 'mechanism': 2,\n",
       " 'media': 2,\n",
       " 'members': 2,\n",
       " 'mentioned': 2,\n",
       " 'methods': 4,\n",
       " 'might': 4,\n",
       " 'miscellaneous': 4,\n",
       " 'mit': 2,\n",
       " 'model': 2,\n",
       " 'models': 2,\n",
       " 'modifying': 2,\n",
       " 'modular': 6,\n",
       " 'monetary': 2,\n",
       " 'motors': 2,\n",
       " 'movement': 16,\n",
       " 'movements': 2,\n",
       " 'nascent': 2,\n",
       " 'nayfeh': 2,\n",
       " 'necessary': 2,\n",
       " 'needing': 2,\n",
       " 'netbook': 2,\n",
       " 'network': 4,\n",
       " 'next': 2,\n",
       " 'non-profit': 2,\n",
       " 'notable': 2,\n",
       " 'nothing': 2,\n",
       " 'now': 2,\n",
       " \"o'reilly\": 2,\n",
       " 'odf': 2,\n",
       " 'ohanda': 2,\n",
       " 'open': 83,\n",
       " 'open-design': 20,\n",
       " 'open-source': 30,\n",
       " 'openbook': 4,\n",
       " 'openbts': 2,\n",
       " 'opencores': 2,\n",
       " 'openstructures': 2,\n",
       " 'organisation': 2,\n",
       " 'organizations': 12,\n",
       " 'osp': 2,\n",
       " 'otherwise': 2,\n",
       " 'overcome': 2,\n",
       " 'patenting': 2,\n",
       " 'peer': 2,\n",
       " 'people': 4,\n",
       " 'per': 2,\n",
       " 'perens': 2,\n",
       " 'performed': 2,\n",
       " 'perhaps': 2,\n",
       " 'period': 2,\n",
       " 'phd': 2,\n",
       " 'philosophy': 2,\n",
       " 'photographs': 2,\n",
       " 'physical': 8,\n",
       " 'places': 2,\n",
       " 'plants': 2,\n",
       " 'play': 2,\n",
       " 'policies': 2,\n",
       " 'portal': 2,\n",
       " 'potential': 4,\n",
       " 'principles': 4,\n",
       " 'printable': 2,\n",
       " 'printed': 2,\n",
       " 'printer': 2,\n",
       " 'printing': 4,\n",
       " 'private': 2,\n",
       " 'process': 2,\n",
       " 'product': 2,\n",
       " 'production': 2,\n",
       " 'products': 4,\n",
       " 'project': 6,\n",
       " 'projects': 10,\n",
       " 'proposed': 2,\n",
       " 'provide': 2,\n",
       " 'publicly': 2,\n",
       " 'published': 2,\n",
       " 'publishing': 2,\n",
       " 'put': 2,\n",
       " 'quite': 2,\n",
       " 'rather': 4,\n",
       " 'raymond': 2,\n",
       " 'realized': 2,\n",
       " 'recently': 2,\n",
       " 'reduced': 2,\n",
       " 'reference': 2,\n",
       " 'reinoud': 2,\n",
       " 'related': 4,\n",
       " 'repository': 2,\n",
       " 'reprap': 2,\n",
       " 'required': 2,\n",
       " 'resource': 2,\n",
       " 'respects': 2,\n",
       " 'ronen': 2,\n",
       " 'ryan': 2,\n",
       " 's': 2,\n",
       " 'samir': 2,\n",
       " 'see': 2,\n",
       " 'sensorica': 2,\n",
       " 'sepehr': 2,\n",
       " 'services': 2,\n",
       " 'set': 2,\n",
       " 'several': 4,\n",
       " 'share': 2,\n",
       " 'shared': 4,\n",
       " 'sharing': 4,\n",
       " 'shelter': 2,\n",
       " 'significantly': 2,\n",
       " 'similar': 2,\n",
       " 'simultaneously': 2,\n",
       " 'single': 4,\n",
       " 'skills': 2,\n",
       " 'software': 26,\n",
       " 'solar': 2,\n",
       " 'solutions': 2,\n",
       " 'source': 26,\n",
       " 'sources': 4,\n",
       " 'speak': 2,\n",
       " 'spirit': 2,\n",
       " 'spread': 2,\n",
       " 'stakeholder': 2,\n",
       " 'standard': 2,\n",
       " 'standardization': 2,\n",
       " 'straightforward': 2,\n",
       " 'structures': 2,\n",
       " 'subsequently': 2,\n",
       " 'suited': 2,\n",
       " 'sustainable': 2,\n",
       " 'systems': 2,\n",
       " 'taken': 2,\n",
       " 'techniques': 2,\n",
       " 'technologies': 4,\n",
       " 'technology': 6,\n",
       " 'term': 2,\n",
       " 'territories': 2,\n",
       " 'testing': 2,\n",
       " 'thesis': 2,\n",
       " 'thingiverse': 4,\n",
       " 'third': 2,\n",
       " 'tim': 2,\n",
       " 'time': 4,\n",
       " 'title': 2,\n",
       " 'together': 4,\n",
       " 'tool': 2,\n",
       " 'tools': 4,\n",
       " 'traced': 2,\n",
       " 'transport': 2,\n",
       " 'treatment': 2,\n",
       " 'trend': 2,\n",
       " 'trends': 2,\n",
       " 'turbine': 2,\n",
       " 'two': 4,\n",
       " 'understood': 2,\n",
       " 'unites': 2,\n",
       " 'university': 4,\n",
       " 'unported': 2,\n",
       " 'unrelated': 2,\n",
       " 'use': 4,\n",
       " 'used': 4,\n",
       " 'usefully': 2,\n",
       " 'users': 2,\n",
       " 'uzebox': 2,\n",
       " 'vallance': 2,\n",
       " 'value': 2,\n",
       " 'vehicles': 4,\n",
       " 'via': 4,\n",
       " 'video': 2,\n",
       " 'virtual': 2,\n",
       " 'visualisation': 2,\n",
       " 'visually': 2,\n",
       " 'voiced': 2,\n",
       " 'water': 2,\n",
       " 'website': 2,\n",
       " 'widely': 2,\n",
       " 'wikispeed': 2,\n",
       " 'wind': 2,\n",
       " 'without': 4,\n",
       " 'zoetrope': 2,\n",
       " 'zoybar': 2}"
      ]
     },
     "execution_count": 86,
     "metadata": {},
     "output_type": "execute_result"
    }
   ],
   "source": [
    "input_freq_dist"
   ]
  },
  {
   "cell_type": "markdown",
   "metadata": {},
   "source": [
    "### 7.4 Set of terms/words that occure in both corpus."
   ]
  },
  {
   "cell_type": "code",
   "execution_count": 87,
   "metadata": {
    "collapsed": false
   },
   "outputs": [
    {
     "name": "stdout",
     "output_type": "stream",
     "text": [
      "293\n"
     ]
    }
   ],
   "source": [
    "common_words = [w for w in input_freq_dist.keys() & english_freq_dist.keys()]\n",
    "print(len(common_words))"
   ]
  },
  {
   "cell_type": "code",
   "execution_count": 56,
   "metadata": {
    "collapsed": false
   },
   "outputs": [
    {
     "name": "stdout",
     "output_type": "stream",
     "text": [
      "terms\n",
      "liberalism\n",
      "together\n",
      "house\n",
      "article\n",
      "old\n",
      "'\n",
      "projects\n",
      "personal\n",
      "issues\n",
      "tools\n",
      "large\n",
      "adding\n",
      "materials\n",
      "children\n",
      "style\n",
      "catalog\n",
      "broad\n",
      "number\n",
      "created\n",
      "techniques\n",
      "came\n",
      "part\n",
      "century\n",
      "encouraging\n",
      "circuit\n",
      "liberty\n",
      "template\n",
      "motivations\n",
      "books\n",
      "modifying\n",
      "section\n",
      "mechanics\n",
      "earth\n",
      "alternative\n",
      "community\n",
      "de\n",
      "trend\n",
      "sunset\n",
      "science\n",
      "quickly\n",
      "spurred\n",
      "things\n",
      "improvement\n",
      "living\n",
      "publication\n",
      "edition\n",
      "do-it-yourself\n",
      "world\n",
      "e\n",
      "items\n",
      "movement\n",
      "people\n",
      "removed\n",
      "associated\n",
      "someone\n",
      "media\n",
      "north\n",
      "low-cost\n",
      "magazine\n",
      "culture\n",
      "various\n",
      "rock\n",
      "remove\n",
      "labels\n",
      "publications\n",
      "design\n",
      "bands\n",
      "grow\n",
      "tyranny\n",
      "found\n",
      "work\n",
      "make\n",
      "improve\n",
      "along\n",
      "equipment\n",
      "based\n",
      "individualist\n",
      "include\n",
      "fashion\n",
      "individual\n",
      "around\n",
      "multiple\n",
      "book\n",
      "published\n",
      "magazines\n",
      "music\n",
      "without\n",
      "california\n",
      "uses\n",
      "needs\n",
      "material\n",
      "john\n",
      "whole\n",
      "game\n",
      "individualism\n",
      "home\n",
      "television\n",
      "life\n",
      "radio\n",
      "southern\n",
      "growing\n",
      "electronics\n",
      "smaller\n",
      "learn\n",
      "research\n",
      "creating\n",
      "love\n",
      "clothes\n",
      "brand\n",
      "school\n",
      "began\n",
      "greek\n",
      "computers\n",
      "common\n",
      "crafts\n",
      "content\n",
      "way\n",
      "wide\n",
      "product\n",
      "built\n",
      "independent\n",
      "sites\n",
      "focusing\n",
      "said\n",
      "environmental\n",
      "scenes\n",
      "stewart\n",
      "launched\n",
      "albert\n",
      "structure\n",
      "maintenance\n",
      "since\n",
      "help\n",
      "channel\n",
      "first\n",
      "message\n",
      "bending\n",
      "term\n",
      "homes\n",
      "late\n",
      "showing\n",
      "making\n",
      "please\n",
      "skills\n",
      "see\n",
      "web\n",
      "early\n",
      "series\n",
      "better\n",
      "articles\n",
      "groups\n",
      "show\n",
      "prose\n",
      "social\n",
      "kind\n",
      "original\n",
      "lack\n",
      "much\n",
      "extensive\n",
      "cable\n",
      "using\n",
      "previously\n",
      "others\n",
      "used\n",
      "network\n",
      "featuring\n",
      "skill\n",
      "l\n",
      "professional\n",
      "arthur\n",
      "range\n",
      "means\n",
      "rights\n",
      "november\n",
      "musical\n",
      "site\n",
      "traditional\n",
      "free\n",
      "craft\n",
      "followed\n",
      "use\n",
      "merchandise\n",
      "related\n",
      "smith\n",
      "popular\n",
      "continues\n",
      "maker\n",
      "topics\n",
      "building\n",
      "property\n"
     ]
    }
   ],
   "source": [
    "for w in common_words: print(w)"
   ]
  },
  {
   "cell_type": "markdown",
   "metadata": {},
   "source": [
    "### 7.5 Set of terms/words that occure in the sample but not in the reference corpus."
   ]
  },
  {
   "cell_type": "markdown",
   "metadata": {},
   "source": [
    "TO BE EXAMINED: This specific set needs to be incorporated. In fact, it may capture specifity of the content to a great extend. We need to assign a mapping score for each words in this set."
   ]
  },
  {
   "cell_type": "code",
   "execution_count": 88,
   "metadata": {
    "collapsed": false
   },
   "outputs": [
    {
     "name": "stdout",
     "output_type": "stream",
     "text": [
      "zoetrope\n",
      "phd\n",
      "instructables\n",
      "commons-based\n",
      "website\n",
      "usefully\n",
      "openbts\n",
      "dr\n",
      "geometrical\n",
      "kiani\n",
      "unported\n",
      "general-purpose\n",
      "co-creation\n",
      "unites\n",
      "internet\n",
      "ecology\n",
      "reprap\n",
      "cad\n",
      "kit\n",
      "ronen\n",
      "sustainable\n",
      "formalized\n",
      "augustin\n",
      "perens\n",
      "reinoud\n",
      "openbook\n",
      "high-tech\n",
      "printable\n",
      "wikispeed\n",
      "attribution\n",
      "odf\n",
      "initiatives\n",
      "computer-controlled\n",
      "fab\n",
      "samir\n",
      "opencores\n",
      "patenting\n",
      "collaborative\n",
      "3-d\n",
      "nascent\n",
      "standardization\n",
      "vallance\n",
      "console\n",
      "funding\n",
      "copyleft\n",
      "open-source\n",
      "o'reilly\n",
      "visualisation\n",
      "openstructures\n",
      "video\n",
      "technologies\n",
      "manifesto\n",
      "appropedia\n",
      "zoybar\n",
      "open-design\n",
      "elektor\n",
      "netbook\n",
      "laptop\n",
      "grid\n",
      "organisation\n",
      "aguaclara\n",
      "collaborate\n",
      "3d\n",
      "ohanda\n",
      "sepehr\n",
      "mit\n",
      "artefact\n",
      "software\n",
      "facilitated\n",
      "lamberts\n",
      "thingiverse\n",
      "kadushin\n",
      "ecological\n",
      "nayfeh\n",
      "uzebox\n",
      "osp\n",
      "littlebits\n",
      "funded\n",
      "customized\n",
      "implemented\n",
      "sensorica\n",
      "delft\n",
      "labs\n",
      "stakeholder\n"
     ]
    }
   ],
   "source": [
    "input_specifics = dict()\n",
    "for w in input_freq_dist.keys() - english_freq_dist.keys():\n",
    "    input_specifics[w] = input_freq_dist[w]\n",
    "    print(w)"
   ]
  },
  {
   "cell_type": "code",
   "execution_count": 89,
   "metadata": {
    "collapsed": false
   },
   "outputs": [
    {
     "name": "stdout",
     "output_type": "stream",
     "text": [
      "84\n"
     ]
    }
   ],
   "source": [
    "print(len(input_specifics))"
   ]
  },
  {
   "cell_type": "markdown",
   "metadata": {},
   "source": [
    "## 8. Stemming (in case needed) "
   ]
  },
  {
   "cell_type": "code",
   "execution_count": 59,
   "metadata": {
    "collapsed": false
   },
   "outputs": [
    {
     "name": "stdout",
     "output_type": "stream",
     "text": [
      "uses -> use\n",
      "disambiguation -> disambigu\n",
      "article -> articl\n",
      "multiple -> multipl\n",
      "issues -> issu\n",
      "please -> pleas\n",
      "improve -> improv\n",
      "remove -> remov\n",
      "template -> templat\n",
      "original -> origin\n",
      "adding -> ad\n",
      "citations -> citat\n",
      "removed -> remov\n",
      "november -> novemb\n",
      "message -> messag\n",
      "needs -> need\n",
      "material -> materi\n",
      "series -> seri\n",
      "individualism -> individu\n",
      "topics -> topic\n",
      "rights -> right\n",
      "individual -> individu\n",
      "liberty -> liberti\n",
      "personal -> person\n",
      "property -> properti\n",
      "anarchism -> anarch\n",
      "liberalism -> liber\n",
      "feminism -> femin\n",
      "libertarianism -> libertarian\n",
      "tyranny -> tyranni\n",
      "building -> build\n",
      "modifying -> modifi\n",
      "things -> thing\n",
      "materials -> materi\n",
      "various -> variou\n",
      "motivations -> motiv\n",
      "previously -> previous\n",
      "community -> commun\n",
      "associated -> associ\n",
      "since -> sinc\n",
      "improvement -> improv\n",
      "maintenance -> mainten\n",
      "people -> peopl\n",
      "projects -> project\n",
      "range -> rang\n",
      "alternative -> altern\n",
      "indie -> indi\n",
      "scenes -> scene\n",
      "related -> relat\n",
      "crafts -> craft\n",
      "culture -> cultur\n",
      "others -> other\n",
      "used -> use\n",
      "subculture -> subcultur\n",
      "groups -> group\n",
      "publications -> public\n",
      "structure -> structur\n",
      "century -> centuri\n",
      "someone -> someon\n",
      "together -> togeth\n",
      "showing -> show\n",
      "skills -> skill\n",
      "house -> hous\n",
      "making -> make\n",
      "clothes -> cloth\n",
      "computers -> comput\n",
      "websites -> websit\n",
      "living -> live\n",
      "edition -> edit\n",
      "growing -> grow\n",
      "terms -> term\n",
      "1970s -> 1970\n",
      "homes -> home\n",
      "environmental -> environment\n",
      "1960s -> 1960\n",
      "early -> earli\n",
      "using -> use\n",
      "tools -> tool\n",
      "published -> publish\n",
      "techniques -> techniqu\n",
      "informational -> inform\n",
      "books -> book\n",
      "professional -> profession\n",
      "items -> item\n",
      "equipment -> equip\n",
      "include -> includ\n",
      "publication -> public\n",
      "spurred -> spur\n",
      "magazines -> magazin\n",
      "mechanics -> mechan\n",
      "created -> creat\n",
      "magazine -> magazin\n",
      "articles -> articl\n",
      "extensive -> extens\n",
      "based -> base\n",
      "followed -> follow\n",
      "electronics -> electron\n",
      "home-improvement -> home-improv\n",
      "sites -> site\n",
      "quickly -> quickli\n",
      "means -> mean\n",
      "television -> televis\n",
      "cable -> cabl\n",
      "launched -> launch\n",
      "knitting -> knit\n",
      "continues -> continu\n",
      "online -> onlin\n",
      "independent -> independ\n",
      "jeans -> jean\n",
      "zines -> zine\n",
      "self-publishing -> self-publish\n",
      "bands -> band\n",
      "labels -> label\n",
      "recycle -> recycl\n",
      "reuse -> reus\n",
      "encouraging -> encourag\n",
      "creating -> creat\n",
      "musical -> music\n",
      "merchandise -> merchandis\n",
      "bending -> bend\n",
      "science -> scienc\n",
      "traditional -> tradit\n",
      "large -> larg\n",
      "faire -> fair\n",
      "crafting -> craft\n",
      "focusing -> focus\n",
      "instructables -> instruct\n",
      "website -> websit\n",
      "featuring -> featur\n"
     ]
    }
   ],
   "source": [
    "from nltk.stem.porter import PorterStemmer\n",
    "stemmer = PorterStemmer()\n",
    "for k,v in input_freq_dist.items():\n",
    "    stemmed = stemmer.stem(k)\n",
    "    if stemmed != k: print(k, \"->\", stemmed)"
   ]
  },
  {
   "cell_type": "markdown",
   "metadata": {},
   "source": [
    "## 9. Computing representation power of common words."
   ]
  },
  {
   "cell_type": "code",
   "execution_count": 90,
   "metadata": {
    "collapsed": false
   },
   "outputs": [],
   "source": [
    "# combine\n",
    "makerness = {}\n",
    "# common_words = [w[0] for w in common_words]\n",
    "for w in common_words:\n",
    "    # Consider only words whose charcater length is larger than 1\n",
    "    if len(w) > 1:\n",
    "        # Log likelihood scores are computed:\n",
    "        score = log((input_freq_dist[w] / n_input) / (english_freq_dist[w] / n_english))\n",
    "        makerness[w] = (score, input_freq_dist[w])"
   ]
  },
  {
   "cell_type": "code",
   "execution_count": 91,
   "metadata": {
    "collapsed": false
   },
   "outputs": [
    {
     "name": "stdout",
     "output_type": "stream",
     "text": [
      "6.798750300417696 hardware 18\n",
      "6.711738923428066 modular 6\n",
      "6.306273815319902 commons 4\n",
      "5.900808707211738 coined 2\n",
      "5.900808707211738 printer 2\n",
      "5.900808707211738 foss 2\n",
      "5.900808707211738 portal 2\n",
      "5.900808707211738 non-profit 2\n",
      "5.900808707211738 eric 2\n",
      "5.900808707211738 lab 2\n",
      "5.900808707211738 fledgling 2\n",
      "5.713210093316939 design 63\n",
      "5.613126634759957 modifying 2\n",
      "5.613126634759957 bruce 2\n",
      "5.613126634759957 visually 2\n",
      "5.613126634759957 bug 2\n",
      "5.613126634759957 repository 2\n",
      "5.613126634759957 circuits 2\n",
      "5.389983083445747 miscellaneous 4\n",
      "5.389983083445747 virtual 2\n",
      "5.389983083445747 cornell 2\n",
      "5.389983083445747 voiced 2\n",
      "5.389983083445747 needing 2\n",
      "5.294672903641422 architecture 4\n",
      "5.207661526651792 digital 2\n",
      "5.207661526651792 turbine 2\n",
      "5.207661526651792 focusing 2\n",
      "5.207661526651792 users 2\n",
      "5.207661526651792 licensed 2\n",
      "5.053510846824533 innovation 2\n",
      "5.053510846824533 designs 8\n",
      "5.053510846824533 unrelated 2\n",
      "5.02107557107138 source 26\n",
      "4.963063040336323 open 83\n",
      "4.9199794542000115 manufacturing 6\n",
      "4.9199794542000115 19th 2\n",
      "4.9199794542000115 straightforward 2\n",
      "4.9199794542000115 duplication 2\n",
      "4.9199794542000115 peer 2\n",
      "4.802196418543628 centralized 2\n",
      "4.802196418543628 printing 4\n",
      "4.802196418543628 18th 2\n",
      "4.802196418543628 enables 2\n",
      "4.802196418543628 larry 2\n",
      "4.802196418543628 monetary 2\n",
      "4.802196418543628 resource 2\n",
      "4.802196418543628 territories 2\n",
      "4.696835902885802 alliance 4\n",
      "4.696835902885802 thesis 2\n",
      "4.680306600934591 organizations 12\n",
      "4.601525723081477 subsequently 2\n",
      "4.601525723081477 framework 2\n",
      "4.601525723081477 cheaper 2\n",
      "4.571672759931795 currently 6\n",
      "4.5570739605106425 sharing 4\n",
      "4.514514346091847 traced 2\n",
      "4.514514346091847 loosely 2\n",
      "4.4344716384183105 media 2\n",
      "4.4344716384183105 files 2\n",
      "4.4344716384183105 computer 2\n",
      "4.389351203137841 projects 10\n",
      "4.360363666264589 publishing 2\n",
      "4.360363666264589 complexity 2\n",
      "4.360363666264589 designers 2\n",
      "4.336833168854395 technology 6\n",
      "4.291370794777637 ryan 2\n",
      "4.291370794777637 directions 4\n",
      "4.291370794777637 network 4\n",
      "4.291370794777637 emerging 2\n",
      "4.269391888058862 engineering 6\n",
      "4.226832273640066 movement 16\n",
      "4.226832273640066 solar 2\n",
      "4.226832273640066 farming 2\n",
      "4.226832273640066 photographs 2\n",
      "4.166207651823631 tools 4\n",
      "4.166207651823631 aggressive 2\n",
      "4.166207651823631 barriers 2\n",
      "4.166207651823631 significantly 2\n",
      "4.166207651823631 compensation 2\n",
      "4.166207651823631 raymond 2\n",
      "4.14678956596653 developing 6\n",
      "4.109049237983682 transport 2\n",
      "4.0549820167134065 guitar 2\n",
      "4.0549820167134065 definition 4\n",
      "4.003688722325856 notable 2\n",
      "4.003688722325856 shared 4\n",
      "4.003688722325856 alike 2\n",
      "3.954898558156424 trends 2\n",
      "3.908378542521531 suited 2\n",
      "3.908378542521531 respects 2\n",
      "3.8353534075066413 compared 6\n",
      "3.8213671655319015 access 2\n",
      "3.8213671655319015 functional 2\n",
      "3.8213671655319015 masters 2\n",
      "3.8213671655319015 via 4\n",
      "3.780545171011646 flexible 2\n",
      "3.780545171011646 applications 2\n",
      "3.780545171011646 tim 2\n",
      "3.741324457858365 emerged 2\n",
      "3.741324457858365 overcome 2\n",
      "3.7222762628876707 vehicles 4\n",
      "3.703584129875518 consisting 2\n",
      "3.703584129875518 create 4\n",
      "3.703584129875518 publicly 2\n",
      "3.667216485704643 mechanism 2\n",
      "3.632125165893373 creating 2\n",
      "3.632125165893373 solutions 2\n",
      "3.565433791394701 mature 2\n",
      "3.565433791394701 project 6\n",
      "3.565433791394701 identical 2\n",
      "3.565433791394701 structures 2\n",
      "3.565433791394701 involve 2\n",
      "3.5336850930801207 lacking 2\n",
      "3.5336850930801207 initiative 2\n",
      "3.5336850930801207 electronics 2\n",
      "3.5336850930801207 testing 2\n",
      "3.502913434413367 benefits 2\n",
      "3.4878755570488265 potential 4\n",
      "3.4730604712636857 alternative 2\n",
      "3.4730604712636857 mechanical 2\n",
      "3.4730604712636857 appropriate 4\n",
      "3.463304296318321 machine 6\n",
      "3.458461671842533 physical 8\n",
      "3.4440729343904333 performed 2\n",
      "3.429888299398477 principles 4\n",
      "3.4159020574237373 printed 2\n",
      "3.4159020574237373 license 2\n",
      "3.388503083235623 skills 2\n",
      "3.3618348361534616 simultaneously 2\n",
      "3.3618348361534616 foundation 2\n",
      "3.335859349750201 code 2\n",
      "3.310541541765911 tool 2\n",
      "3.310541541765911 languages 2\n",
      "3.310541541765911 goals 2\n",
      "3.2858489291755393 involves 2\n",
      "3.261751377596479 increasingly 2\n",
      "3.261751377596479 holds 2\n",
      "3.238220880186285 external 2\n",
      "3.215231361961586 sources 4\n",
      "3.215231361961586 extensive 2\n",
      "3.170779599390752 trend 2\n",
      "3.170779599390752 creation 2\n",
      "3.1492733941697884 models 2\n",
      "3.1492733941697884 movements 2\n",
      "3.1386912848392514 construction 4\n",
      "3.1212995421273826 effort 6\n",
      "3.1076006977692208 creative 2\n",
      "3.0873979904517013 motors 2\n",
      "3.0873979904517013 convinced 2\n",
      "3.0675953631555215 related 4\n",
      "3.0520308466144095 free 10\n",
      "3.0481772772984197 widely 2\n",
      "3.0481772772984197 current 4\n",
      "3.0291290823277253 advanced 2\n",
      "3.0104369493155727 established 4\n",
      "3.0104369493155727 products 4\n",
      "3.0104369493155727 machines 2\n",
      "2.992087810647376 components 2\n",
      "2.980039472131202 development 12\n",
      "2.974069305144698 apply 2\n",
      "2.9389779853334277 understood 2\n",
      "2.9389779853334277 fairly 2\n",
      "2.9218835519741275 plants 2\n",
      "2.9050764336577464 machinery 2\n",
      "2.888547131706536 commercial 2\n",
      "2.856286269488314 wind 2\n",
      "2.856286269488314 benefit 2\n",
      "2.8097662538534216 closely 2\n",
      "2.794728376488881 reference 2\n",
      "2.7799132907037403 article 2\n",
      "2.7799132907037403 policies 2\n",
      "2.7799132907037403 electronic 2\n",
      "2.7653144912825876 realized 2\n",
      "2.7509257538304883 shelter 2\n",
      "2.7367411188385318 methods 4\n",
      "2.715834434019218 knowledge 4\n",
      "2.708961554731456 individuals 2\n",
      "2.6643112809937173 cost 6\n",
      "2.655615574026163 title 2\n",
      "2.655615574026163 model 2\n",
      "2.6299731434128257 reduced 2\n",
      "2.6299731434128257 mentioned 2\n",
      "2.6299731434128257 expression 2\n",
      "2.6299731434128257 term 2\n",
      "2.6049718412074085 cells 2\n",
      "2.5805803880832494 spread 2\n",
      "2.5686041970365334 proposed 2\n",
      "2.5567697393895306 concept 2\n",
      "2.5567697393895306 distribution 2\n",
      "2.5450736996263394 single 4\n",
      "2.5450736996263394 otherwise 2\n",
      "2.5450736996263394 philosophy 2\n",
      "2.5335128772252635 product 2\n",
      "2.5107846261477076 published 2\n",
      "2.5107846261477076 develop 2\n",
      "2.499611325549582 corporation 2\n",
      "2.456126213609843 everyone 2\n",
      "2.4144535172092754 share 2\n",
      "2.404301145745257 techniques 2\n",
      "2.394250809891756 places 2\n",
      "2.331276010730367 child 4\n",
      "2.326592161417941 university 4\n",
      "2.3172897687556273 designed 2\n",
      "2.2989406300874307 speak 2\n",
      "2.2989406300874307 standard 2\n",
      "2.285396404979674 common 4\n",
      "2.2720331771675064 include 2\n",
      "2.203630450283106 march 2\n",
      "2.1872366405074297 recently 2\n",
      "2.1872366405074297 game 2\n",
      "2.171107258577546 groups 2\n",
      "2.155233909421256 treatment 2\n",
      "2.1513046312813664 making 4\n",
      "2.139608591518175 systems 2\n",
      "2.116619073293476 generally 2\n",
      "2.105319518039543 together 4\n",
      "2.097856796837953 information 4\n",
      "2.0649470627491553 services 2\n",
      "2.03657636561994 industrial 2\n",
      "2.0296076963038465 local 4\n",
      "2.0226872534592726 company 4\n",
      "2.002208722115732 production 2\n",
      "2.002208722115732 cases 2\n",
      "1.9821411590649227 countries 2\n",
      "1.9495649886303101 final 2\n",
      "1.943175190531539 similar 2\n",
      "1.8577574393771874 including 2\n",
      "1.8461294013820682 low 2\n",
      "1.8346350219563332 beyond 2\n",
      "1.812035190039092 late 2\n",
      "1.7954143088030519 required 2\n",
      "1.7954143088030519 spirit 2\n",
      "1.7844852382708616 basis 2\n",
      "1.7709897567959771 rather 4\n",
      "1.7603229889917817 several 4\n",
      "1.752396923719361 third 2\n",
      "1.7471475678332171 private 2\n",
      "1.7264214373161004 idea 2\n",
      "1.72130633664933 process 2\n",
      "1.7011036293318105 value 2\n",
      "1.7011036293318105 play 2\n",
      "1.6667022026144782 century 2\n",
      "1.6264600863360448 hand 4\n",
      "1.6241425881956821 provide 2\n",
      "1.5967436140075677 necessary 2\n",
      "1.5744709783984443 future 2\n",
      "1.5570032853580535 community 2\n",
      "1.49816278533512 available 2\n",
      "1.419691169893625 period 2\n",
      "1.3790201301626972 body 2\n",
      "1.3610663265461014 quite 2\n",
      "1.3610663265461014 taken 2\n",
      "1.3504467577186412 either 2\n",
      "1.3243809900893002 without 4\n",
      "1.3107521590336941 use 4\n",
      "1.2774712172681972 used 4\n",
      "1.27257324829265 perhaps 2\n",
      "1.259628083700613 help 2\n",
      "1.2532178053396938 certain 2\n",
      "1.2279798727498314 although 2\n",
      "1.2186774800875178 area 2\n",
      "1.2186774800875178 country 2\n",
      "1.2155958135501097 members 2\n",
      "1.2003283414193213 interest 2\n",
      "1.1823098359166428 might 4\n",
      "1.096787662478481 early 2\n",
      "1.0859179902415772 form 2\n",
      "1.083218933272412 per 2\n",
      "1.035841652261401 give 2\n",
      "1.033274256756155 group 2\n",
      "1.0230700865819133 next 2\n",
      "1.0154847151926567 later 2\n",
      "0.9857058398370455 end 2\n",
      "0.9808277813836126 nothing 2\n",
      "0.9735550220545328 set 2\n",
      "0.9508674817877381 people 4\n",
      "0.919487800784257 put 2\n",
      "0.901346713713607 water 2\n",
      "0.8029768680853266 every 2\n",
      "0.6858729496027518 however 2\n",
      "0.6278091486479906 even 4\n",
      "0.5537011764942689 come 2\n",
      "0.49963395522399306 great 2\n",
      "0.43980575838660513 two 4\n",
      "0.35043644585507094 see 2\n",
      "0.3223375346327115 make 2\n",
      "0.3160600501135726 time 4\n",
      "0.3073372533732189 good 2\n",
      "0.12625716166732917 back 2\n",
      "-0.18141020316470863 now 2\n"
     ]
    }
   ],
   "source": [
    "# Sorting by scores:\n",
    "for k,v in sorted(makerness.items(), key=lambda x:x[1][0], reverse=True): print(v[0],k,v[1])"
   ]
  },
  {
   "cell_type": "code",
   "execution_count": 93,
   "metadata": {
    "collapsed": true
   },
   "outputs": [],
   "source": [
    "csvfile_name = \".makerness_\" + output_fname + \".csv\"\n",
    "with open(csvfile_name, 'w') as csvfile:\n",
    "    thewriter = csv.writer(csvfile, delimiter=',')\n",
    "    for k,v in sorted(makerness.items(), key=lambda x:x[1][0], reverse=True):\n",
    "        thewriter.writerow([k,v[0],v[1]])"
   ]
  },
  {
   "cell_type": "code",
   "execution_count": null,
   "metadata": {
    "collapsed": true
   },
   "outputs": [],
   "source": []
  }
 ],
 "metadata": {
  "kernelspec": {
   "display_name": "Python 3",
   "language": "python",
   "name": "python3"
  },
  "language_info": {
   "codemirror_mode": {
    "name": "ipython",
    "version": 3
   },
   "file_extension": ".py",
   "mimetype": "text/x-python",
   "name": "python",
   "nbconvert_exporter": "python",
   "pygments_lexer": "ipython3",
   "version": "3.6.0"
  }
 },
 "nbformat": 4,
 "nbformat_minor": 2
}
