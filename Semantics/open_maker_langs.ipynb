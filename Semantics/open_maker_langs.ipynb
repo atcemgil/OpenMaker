{
 "cells": [
  {
   "cell_type": "markdown",
   "metadata": {},
   "source": [
    "# Discovery and Representation of Open Making Related Terms"
   ]
  },
  {
   "cell_type": "markdown",
   "metadata": {},
   "source": [
    "This notebook sketches the initial exercise on discovering the open making related keywords. The input text is harvested via a Web crawler that identifies and crawls semantically related wikipedia articles.   "
   ]
  },
  {
   "cell_type": "code",
   "execution_count": 1,
   "metadata": {
    "collapsed": true
   },
   "outputs": [],
   "source": [
    "from utils import tokenizer\n",
    "import nltk\n",
    "from nltk import FreqDist\n",
    "from math import log\n",
    "import json, csv"
   ]
  },
  {
   "cell_type": "markdown",
   "metadata": {},
   "source": [
    "## 1. Loading a reference English language corpus"
   ]
  },
  {
   "cell_type": "code",
   "execution_count": 2,
   "metadata": {
    "collapsed": false
   },
   "outputs": [
    {
     "data": {
      "text/plain": [
       "['adventure',\n",
       " 'belles_lettres',\n",
       " 'editorial',\n",
       " 'fiction',\n",
       " 'government',\n",
       " 'hobbies',\n",
       " 'humor',\n",
       " 'learned',\n",
       " 'lore',\n",
       " 'mystery',\n",
       " 'news',\n",
       " 'religion',\n",
       " 'reviews',\n",
       " 'romance',\n",
       " 'science_fiction']"
      ]
     },
     "execution_count": 2,
     "metadata": {},
     "output_type": "execute_result"
    }
   ],
   "source": [
    "from nltk.corpus import brown\n",
    "brown.categories()"
   ]
  },
  {
   "cell_type": "markdown",
   "metadata": {},
   "source": [
    "## 2. Stop words"
   ]
  },
  {
   "cell_type": "markdown",
   "metadata": {},
   "source": [
    "### 2.1 Standard stop words"
   ]
  },
  {
   "cell_type": "code",
   "execution_count": 3,
   "metadata": {
    "collapsed": false
   },
   "outputs": [
    {
     "name": "stdout",
     "output_type": "stream",
     "text": [
      "{'i', \"i'm\", 'each', \"he'd\", 'while', 'know', 'him', 'been', 'do', 'during', 'yourselves', 'our', 'all', 'me', \"she's\", 'are', 'be', \"they've\", 'once', 'them', 'only', \"wasn't\", 'hers', 'can', 'did', 'cannot', 'other', \"we're\", 'her', \"when's\", \"shouldn't\", 'and', \"they're\", \"you'll\", 'itself', \"shan't\", 'we', \"couldn't\", 'herself', 'myself', \"haven't\", 'that', 'were', 'between', 'he', \"you're\", 'have', 'there', 'does', \"that's\", 'what', 'before', 'more', 'a', 'am', 'this', \"here's\", 'of', 'would', \"we've\", 'yourself', \"hasn't\", \"isn't\", 'nor', \"she'd\", \"won't\", 'most', 'had', \"aren't\", 'could', \"wouldn't\", \"can't\", \"he's\", 'its', 'above', 'on', \"where's\", \"hadn't\", 'himself', 'here', 'out', 'below', 'from', \"i'd\", \"who's\", \"he'll\", 'ourselves', 'down', 'their', 'with', 'through', 'same', 'like', 'it', 'few', 'http', 'having', \"they'd\", 'in', 'than', 'the', 'get', \"you'd\", 'who', 'off', 'or', 'these', 'further', \"i'll\", 'no', 'should', 'too', 'not', 'such', 'until', 'whom', 'doing', 'r', 'my', \"didn't\", 'but', 'she', \"mustn't\", 'they', 'you', 'as', 'was', 'his', 'being', 'again', 'about', \"i've\", \"we'd\", \"don't\", \"she'll\", \"you've\", 'by', 'themselves', 'www', 'any', 'to', 'how', \"doesn't\", 'which', 'theirs', 'then', \"what's\", 'just', 'an', \"how's\", 'if', 'those', 'for', 'over', 'ours ', \"let's\", 'where', 'yours', 'some', 'when', 'after', 'under', 'both', 'has', 'your', 'very', 'ought', 'up', \"why's\", 'because', \"it's\", 'own', \"they'll\", 'so', 'why', 'into', 'at', 'com', \"we'll\", 'is', \"there's\", \"weren't\"}\n"
     ]
    }
   ],
   "source": [
    "with open(\"data/stopwords_standard.txt\", \"r\") as f:\n",
    "    STOP_WORDS_STANDARD = set(f.read().strip().split(\"\\n\"))\n",
    "print(STOP_WORDS_STANDARD)"
   ]
  },
  {
   "cell_type": "markdown",
   "metadata": {},
   "source": [
    "### 2.2 Open-making related stop words"
   ]
  },
  {
   "cell_type": "code",
   "execution_count": 4,
   "metadata": {
    "collapsed": false
   },
   "outputs": [
    {
     "name": "stdout",
     "output_type": "stream",
     "text": [
      "{'well', 'one', 'many', 'often', 'may', 'also', 'almost'}\n"
     ]
    }
   ],
   "source": [
    "with open(\"data/stopwords_openmaker.txt\", \"r\") as f:\n",
    "    STOP_WORDS_OPENMAKER = set(f.read().strip().split(\"\\n\"))\n",
    "print(STOP_WORDS_OPENMAKER)"
   ]
  },
  {
   "cell_type": "markdown",
   "metadata": {},
   "source": [
    "## 3. Removing stop words from the reference English corpus"
   ]
  },
  {
   "cell_type": "code",
   "execution_count": 5,
   "metadata": {
    "collapsed": false
   },
   "outputs": [
    {
     "name": "stdout",
     "output_type": "stream",
     "text": [
      "{\"i'm\", 'each', 'him', 'during', 'our', \"she's\", \"they've\", 'once', 'them', 'only', \"wasn't\", 'hers', 'did', 'other', \"shouldn't\", 'and', \"they're\", \"you'll\", \"shan't\", 'that', 'between', 'does', 'what', 'before', 'a', 'am', 'would', \"we've\", 'yourself', \"hasn't\", \"she'd\", 'most', \"aren't\", \"he's\", 'on', 'himself', 'here', 'out', 'below', \"he'll\", 'their', 'same', 'like', 'it', 'having', \"they'd\", 'than', 'one', 'the', 'who', 'or', 'these', \"i'll\", 'no', 'should', 'whom', 'doing', 'but', 'she', \"mustn't\", 'almost', 'you', 'his', 'about', 'often', \"don't\", \"she'll\", \"you've\", 'by', 'how', 'then', \"what's\", 'an', \"how's\", 'if', 'those', 'over', 'where', 'some', 'when', 'under', 'both', 'your', 'very', 'ought', \"why's\", 'because', 'own', 'so', 'why', 'into', 'com', \"we'll\", 'is', 'i', 'while', \"he'd\", 'know', 'been', 'do', 'yourselves', 'all', 'me', 'are', 'be', 'can', 'cannot', \"we're\", 'her', \"when's\", 'itself', 'we', \"couldn't\", 'herself', 'myself', \"haven't\", 'were', 'he', \"you're\", 'have', 'there', \"that's\", 'more', 'this', \"here's\", 'of', \"isn't\", 'nor', \"won't\", 'had', 'could', \"wouldn't\", \"can't\", 'its', 'above', \"where's\", 'well', 'many', \"hadn't\", 'from', \"i'd\", \"who's\", 'ourselves', 'down', 'with', 'through', 'few', 'http', 'in', 'get', \"you'd\", 'off', 'may', 'also', 'further', 'too', 'not', 'such', 'until', 'r', 'my', \"didn't\", 'they', 'as', 'was', 'being', 'again', \"i've\", \"we'd\", 'themselves', 'www', 'any', 'to', \"doesn't\", 'which', 'theirs', 'just', 'for', 'ours ', \"let's\", 'yours', 'after', 'has', 'up', \"it's\", \"they'll\", 'at', \"there's\", \"weren't\"}\n"
     ]
    }
   ],
   "source": [
    "# merging the two list together\n",
    "STOP_WORDS = STOP_WORDS_STANDARD.union(STOP_WORDS_OPENMAKER)\n",
    "print(STOP_WORDS)"
   ]
  },
  {
   "cell_type": "code",
   "execution_count": 6,
   "metadata": {
    "collapsed": true
   },
   "outputs": [],
   "source": [
    "# load english words from the Brown corpus removing stop words.\n",
    "english_freq_dist = FreqDist([w.lower() for w in nltk.corpus.brown.words()\n",
    "                              if w not in STOP_WORDS])"
   ]
  },
  {
   "cell_type": "markdown",
   "metadata": {},
   "source": [
    "## 4. Removing the rare words."
   ]
  },
  {
   "cell_type": "markdown",
   "metadata": {},
   "source": [
    "Below we remove rare words and get total count. The code below keeps all words with a occurance frequency above 2. "
   ]
  },
  {
   "cell_type": "code",
   "execution_count": 7,
   "metadata": {
    "collapsed": true
   },
   "outputs": [],
   "source": [
    "english_freq_dist = {k:v for k,v in english_freq_dist.items() if v > 2}"
   ]
  },
  {
   "cell_type": "markdown",
   "metadata": {},
   "source": [
    "## 5. Loading the input Open Maker corpus"
   ]
  },
  {
   "cell_type": "code",
   "execution_count": 8,
   "metadata": {
    "collapsed": true
   },
   "outputs": [],
   "source": [
    "# load the harvested text from wikipedia.\n",
    "with open(\"data/wikipedia.json\", \"r\") as f: OM_Corpus_text = f.read()\n",
    "OM_Corpus = json.loads(OM_Corpus_text)"
   ]
  },
  {
   "cell_type": "code",
   "execution_count": 9,
   "metadata": {
    "collapsed": false
   },
   "outputs": [
    {
     "name": "stdout",
     "output_type": "stream",
     "text": [
      "152\n"
     ]
    }
   ],
   "source": [
    "# The total number of wiki articles used:\n",
    "print(len(OM_Corpus))"
   ]
  },
  {
   "cell_type": "code",
   "execution_count": 10,
   "metadata": {
    "collapsed": false
   },
   "outputs": [
    {
     "data": {
      "text/plain": [
       "dict_keys(['theme.id', 'title', 'url', 'depth', 'text'])"
      ]
     },
     "execution_count": 10,
     "metadata": {},
     "output_type": "execute_result"
    }
   ],
   "source": [
    "# Column names of the the corpus.\n",
    "OM_Corpus[0].keys()"
   ]
  },
  {
   "cell_type": "code",
   "execution_count": 11,
   "metadata": {
    "collapsed": false
   },
   "outputs": [],
   "source": [
    "def display_articles(tid):\n",
    "    articles = [article for article in OM_Corpus if article['theme.id'] == tid]\n",
    "    for article in articles:\n",
    "        print(article['depth'],article['title'], article['url'])"
   ]
  },
  {
   "cell_type": "code",
   "execution_count": 12,
   "metadata": {
    "collapsed": false
   },
   "outputs": [
    {
     "name": "stdout",
     "output_type": "stream",
     "text": [
      "0 Do it yourself https://en.wikipedia.org/wiki/Do_it_yourself\n",
      "1 Edupunk https://en.wikipedia.org/wiki/Edupunk\n",
      "1 Prosumer https://en.wikipedia.org/wiki/Prosumer\n",
      "1 How-to https://en.wikipedia.org/wiki/How-to\n",
      "1 Kludge https://en.wikipedia.org/wiki/Kludge\n",
      "1 Bricolage https://en.wikipedia.org/wiki/Bricolage\n",
      "1 Junk box https://en.wikipedia.org/wiki/Junk_box\n",
      "1 Number 8 wire https://en.wikipedia.org/wiki/Number_8_wire\n",
      "1 Ready-to-assemble furniture https://en.wikipedia.org/wiki/Ready-to-assemble_furniture\n",
      "1 Open design https://en.wikipedia.org/wiki/Open_Design\n",
      "1 Hackerspace https://en.wikipedia.org/wiki/Hackerspace\n",
      "1 Instructables https://en.wikipedia.org/wiki/Instructables\n",
      "1 Handyman https://en.wikipedia.org/wiki/Handyman\n",
      "1 Circuit bending https://en.wikipedia.org/wiki/Circuit_bending\n",
      "1 Project GreenWorld International https://en.wikipedia.org/wiki/Project_GreenOman\n",
      "1 3D printing https://en.wikipedia.org/wiki/3D_printing\n"
     ]
    }
   ],
   "source": [
    "display_articles(0)"
   ]
  },
  {
   "cell_type": "code",
   "execution_count": 13,
   "metadata": {
    "collapsed": false
   },
   "outputs": [
    {
     "name": "stdout",
     "output_type": "stream",
     "text": [
      "0 Open design https://en.wikipedia.org/wiki/Open_design\n",
      "1 Knowledge commons https://en.wikipedia.org/wiki/Knowledge_commons\n",
      "1 Open Source Ecology https://en.wikipedia.org/wiki/Open_Source_Ecology\n",
      "1 Computer-aided design https://en.wikipedia.org/wiki/Computer-aided_design\n",
      "1 Open Source Initiative https://en.wikipedia.org/wiki/Open_Source_Initiative\n",
      "1 Open Architecture Network https://en.wikipedia.org/wiki/Open_Architecture_Network\n",
      "1 Open-source architecture https://en.wikipedia.org/wiki/Open-source_architecture\n",
      "1 Commons-based peer production https://en.wikipedia.org/wiki/Commons-based_peer_production\n",
      "1 Open standard https://en.wikipedia.org/wiki/Open_standard\n",
      "1 OpenCores https://en.wikipedia.org/wiki/OpenCores\n",
      "1 Co-creation https://en.wikipedia.org/wiki/Co-creation\n",
      "1 OpenBTS https://en.wikipedia.org/wiki/OpenBTS\n",
      "1 Open manufacturing https://en.wikipedia.org/wiki/Open_manufacturing\n",
      "1 Open-source hardware https://en.wikipedia.org/wiki/Open-source_hardware\n",
      "1 Open source appropriate technology https://en.wikipedia.org/wiki/Open-source_appropriate_technology\n",
      "1 Open standard https://en.wikipedia.org/wiki/Open_standardization\n",
      "1 Open-source software https://en.wikipedia.org/wiki/Open-source_software\n"
     ]
    }
   ],
   "source": [
    "display_articles(1)"
   ]
  },
  {
   "cell_type": "code",
   "execution_count": 14,
   "metadata": {
    "collapsed": false
   },
   "outputs": [
    {
     "name": "stdout",
     "output_type": "stream",
     "text": [
      "0 Sustainability https://en.wikipedia.org/wiki/Sustainability\n",
      "1 Sustainability standards and certification https://en.wikipedia.org/wiki/Sustainability_standards_and_certification\n",
      "1 Appropriate technology https://en.wikipedia.org/wiki/Appropriate_technology\n",
      "1 Sustainable development https://en.wikipedia.org/wiki/Sustainable_development\n",
      "1 Environmental issue https://en.wikipedia.org/wiki/Environmental_issue\n",
      "1 World Cities Summit https://en.wikipedia.org/wiki/World_Cities_Summit\n",
      "1 Ecopsychology https://en.wikipedia.org/wiki/Ecopsychology\n",
      "1 Book:Sustainability https://en.wikipedia.org/wiki/Book:Sustainability\n",
      "1 Sustainable design https://en.wikipedia.org/wiki/Sustainable_design\n",
      "1 Circles of Sustainability https://en.wikipedia.org/wiki/Circles_of_Sustainability\n",
      "1 Sustainability science https://en.wikipedia.org/wiki/Sustainability_science\n",
      "1 Sustainable living https://en.wikipedia.org/wiki/Sustainable_living\n",
      "1 Index of sustainability articles https://en.wikipedia.org/wiki/List_of_sustainability_topics\n",
      "1 Foresight (psychology) https://en.wikipedia.org/wiki/Foresight_(psychology)\n",
      "1 Sustainable tourism https://en.wikipedia.org/wiki/Sustainable_tourism\n",
      "1 Sustainability studies https://en.wikipedia.org/wiki/Sustainability_studies\n",
      "1 Computational sustainability https://en.wikipedia.org/wiki/Computational_sustainability\n",
      "1 Sociocultural evolution https://en.wikipedia.org/wiki/Sociocultural_evolution\n",
      "1 Introduced species https://en.wikipedia.org/wiki/Introduced_species\n",
      "1 Food miles https://en.wikipedia.org/wiki/Food_miles\n",
      "1 Sustainable capitalism https://en.wikipedia.org/wiki/Sustainable_Capitalism\n",
      "1 Carfree city https://en.wikipedia.org/wiki/Carfree_city\n",
      "1 Micro-sustainability https://en.wikipedia.org/wiki/Micro-sustainability\n",
      "1 Cradle-to-cradle design https://en.wikipedia.org/wiki/Cradle-to-cradle_design\n",
      "1 Sustainable city https://en.wikipedia.org/wiki/Sustainable_city\n",
      "1 Sustainability and systemic change resistance https://en.wikipedia.org/wiki/Sustainability_and_systemic_change_resistance\n",
      "1 Carbon footprint https://en.wikipedia.org/wiki/Carbon_footprint\n",
      "1 Sustainable sanitation https://en.wikipedia.org/wiki/Sustainable_sanitation\n",
      "1 Resource efficiency https://en.wikipedia.org/wiki/Resource_efficiency\n",
      "1 Environmental racism https://en.wikipedia.org/wiki/Environmental_racism\n",
      "1 Sustainable forest management https://en.wikipedia.org/wiki/Sustainable_forest_management\n",
      "1 Applied sustainability https://en.wikipedia.org/wiki/Applied_sustainability\n",
      "1 Population Matters https://en.wikipedia.org/wiki/Population_Matters\n",
      "1 Emissions trading https://en.wikipedia.org/wiki/Emissions_trading\n",
      "1 Extinction https://en.wikipedia.org/wiki/Extinction\n",
      "1 Human overpopulation https://en.wikipedia.org/wiki/Human_overpopulation\n",
      "1 Outline of sustainability https://en.wikipedia.org/wiki/Outline_of_sustainability\n",
      "1 Bibliography of sustainability https://en.wikipedia.org/wiki/Bibliography_of_sustainability\n",
      "1 Agenda 21 https://en.wikipedia.org/wiki/Agenda_21\n",
      "1 Renewable energy https://en.wikipedia.org/wiki/Renewable_energy\n"
     ]
    }
   ],
   "source": [
    "display_articles(2)"
   ]
  },
  {
   "cell_type": "code",
   "execution_count": 15,
   "metadata": {
    "collapsed": false
   },
   "outputs": [
    {
     "name": "stdout",
     "output_type": "stream",
     "text": [
      "0 Maker culture https://en.wikipedia.org/wiki/Maker_culture\n",
      "1 Modular design https://en.wikipedia.org/wiki/Modular_design\n",
      "1 Open-source car https://en.wikipedia.org/wiki/Open-source_car\n",
      "1 Electric vehicle conversion https://en.wikipedia.org/wiki/Electric_vehicle_conversion\n",
      "1 Thingiverse https://en.wikipedia.org/wiki/Thingiverse\n",
      "1 Fab lab https://en.wikipedia.org/wiki/Fab_Lab_(fabrication_laboratory)\n",
      "1 SparkFun Electronics https://en.wikipedia.org/wiki/SparkFun\n",
      "1 RepRap project https://en.wikipedia.org/wiki/RepRap\n",
      "1 Distributed manufacturing https://en.wikipedia.org/wiki/Distributed_manufacturing\n",
      "1 Craft production https://en.wikipedia.org/wiki/Craft_production\n",
      "1 Autonomous building https://en.wikipedia.org/wiki/Autonomous_building\n",
      "1 Open-source hardware https://en.wikipedia.org/wiki/Open_source_hardware\n",
      "1 Kit car https://en.wikipedia.org/wiki/Kit_car\n"
     ]
    }
   ],
   "source": [
    "display_articles(3)"
   ]
  },
  {
   "cell_type": "code",
   "execution_count": 16,
   "metadata": {
    "collapsed": false
   },
   "outputs": [
    {
     "name": "stdout",
     "output_type": "stream",
     "text": [
      "0 Innovation https://en.wikipedia.org/wiki/Innovation\n",
      "1 Competitive intelligence https://en.wikipedia.org/wiki/Creative_competitive_intelligence\n",
      "1 Multiple discovery https://en.wikipedia.org/wiki/Multiple_discovery\n",
      "1 UNDP Innovation Facility https://en.wikipedia.org/wiki/UNDP_Innovation_Facility\n",
      "1 Open Innovations (event) https://en.wikipedia.org/wiki/Open_Innovations_(Forum_and_Technology_Show)\n",
      "1 Trans-cultural diffusion https://en.wikipedia.org/wiki/Diffusion_(anthropology)\n",
      "1 Individual capital https://en.wikipedia.org/wiki/Individual_capital\n",
      "1 Innovation system https://en.wikipedia.org/wiki/Innovation_system\n",
      "1 Public domain https://en.wikipedia.org/wiki/Public_domain\n",
      "1 Ingenuity https://en.wikipedia.org/wiki/Ingenuity\n",
      "1 Sustainable Development Goals https://en.wikipedia.org/wiki/Sustainable_Development_Goals\n",
      "1 Participatory design https://en.wikipedia.org/wiki/Participatory_design\n",
      "1 Innovation management https://en.wikipedia.org/wiki/Innovation_management\n",
      "1 Information revolution https://en.wikipedia.org/wiki/Information_revolution\n",
      "1 Technology life cycle https://en.wikipedia.org/wiki/Technology_Life_Cycle\n",
      "1 Outcome-Driven Innovation https://en.wikipedia.org/wiki/Outcome-Driven_Innovation\n",
      "1 Value network https://en.wikipedia.org/wiki/Value_network\n",
      "1 Eric von Hippel https://en.wikipedia.org/wiki/Toolkits_for_User_Innovation\n",
      "1 Creative problem-solving https://en.wikipedia.org/wiki/Creative_problem_solving\n",
      "1 Innovation leadership https://en.wikipedia.org/wiki/Innovation_leadership\n",
      "1 Induced innovation https://en.wikipedia.org/wiki/Induced_innovation\n",
      "1 Invention https://en.wikipedia.org/wiki/Invention\n",
      "1 Pro-innovation bias https://en.wikipedia.org/wiki/Pro-innovation_bias\n",
      "1 List of countries by research and development spending https://en.wikipedia.org/wiki/List_of_countries_by_research_and_development_spending\n",
      "1 Technological innovation system https://en.wikipedia.org/wiki/Technological_innovation_system\n",
      "1 Communities of innovation https://en.wikipedia.org/wiki/Communities_of_innovation\n",
      "1 Open innovation https://en.wikipedia.org/wiki/Open_Innovation\n",
      "1 List of Russian inventors https://en.wikipedia.org/wiki/List_of_Russian_inventors\n",
      "1 Theories of technology https://en.wikipedia.org/wiki/Theories_of_technology\n",
      "1 Timeline of historic inventions https://en.wikipedia.org/wiki/Timeline_of_historic_inventions\n",
      "1 Creativity https://en.wikipedia.org/wiki/Creativity\n",
      "1 List of emerging technologies https://en.wikipedia.org/wiki/List_of_emerging_technologies\n",
      "1 Knowledge economy https://en.wikipedia.org/wiki/Knowledge_economy\n",
      "1 Global Innovation Index https://en.wikipedia.org/wiki/Global_Innovation_Index_(INSEAD)\n",
      "1 Research https://en.wikipedia.org/wiki/Research\n",
      "1 International Innovation Index https://en.wikipedia.org/wiki/Global_Innovation_Index_(Boston_Consulting_Group)\n",
      "1 Disruptive innovation https://en.wikipedia.org/wiki/Disruptive_innovation\n",
      "1 Hype cycle https://en.wikipedia.org/wiki/Hype_cycle\n",
      "1 Eco-innovation https://en.wikipedia.org/wiki/Ecoinnovation\n",
      "1 Virtual product development https://en.wikipedia.org/wiki/Virtual_product_development\n",
      "1 Deployment https://en.wikipedia.org/wiki/Deployment\n"
     ]
    }
   ],
   "source": [
    "display_articles(4)"
   ]
  },
  {
   "cell_type": "code",
   "execution_count": 17,
   "metadata": {
    "collapsed": false,
    "scrolled": true
   },
   "outputs": [
    {
     "name": "stdout",
     "output_type": "stream",
     "text": [
      "0 Collaboration https://en.wikipedia.org/wiki/Collaboration\n",
      "1 Wikinomics https://en.wikipedia.org/wiki/Wikinomics\n",
      "1 Collaborative editing https://en.wikipedia.org/wiki/Collaborative_editing\n",
      "1 Telepresence https://en.wikipedia.org/wiki/Telepresence\n",
      "1 Knowledge management https://en.wikipedia.org/wiki/Knowledge_management\n",
      "1 The Culture of Collaboration https://en.wikipedia.org/wiki/The_Culture_of_Collaboration\n",
      "1 Collaborative governance https://en.wikipedia.org/wiki/Collaborative_governance\n",
      "1 Community film https://en.wikipedia.org/wiki/Community_film\n",
      "1 Collaborative innovation network https://en.wikipedia.org/wiki/Collaborative_innovation_network\n",
      "1 Design thinking https://en.wikipedia.org/wiki/Design_thinking\n",
      "1 Role-based collaboration https://en.wikipedia.org/wiki/Role-based_collaboration\n",
      "1 Intranet portal https://en.wikipedia.org/wiki/Intranet_portal\n",
      "1 Critical thinking https://en.wikipedia.org/wiki/Critical_thinking\n",
      "1 Facilitation (business) https://en.wikipedia.org/wiki/Facilitation_(business)\n",
      "1 Collaborative software https://en.wikipedia.org/wiki/Collaborative_software\n",
      "1 Postpartisan https://en.wikipedia.org/wiki/Postpartisan\n",
      "1 Collaborative search engine https://en.wikipedia.org/wiki/Collaborative_search_engine\n",
      "1 Crowdsourcing https://en.wikipedia.org/wiki/Crowdsourcing\n",
      "1 Conference call https://en.wikipedia.org/wiki/Conference_call\n",
      "1 Collaborative leadership https://en.wikipedia.org/wiki/Collaborative_leadership\n",
      "1 Learning circle https://en.wikipedia.org/wiki/Learning_circle\n",
      "1 Unorganisation https://en.wikipedia.org/wiki/Unorganisation\n",
      "1 Digital collaboration https://en.wikipedia.org/wiki/Digital_Collaboration\n",
      "1 Collaborative translation https://en.wikipedia.org/wiki/Collaborative_translation\n",
      "1 Classical music written in collaboration https://en.wikipedia.org/wiki/Classical_music_written_in_collaboration\n"
     ]
    }
   ],
   "source": [
    "display_articles(5)"
   ]
  },
  {
   "cell_type": "markdown",
   "metadata": {},
   "source": [
    "## 6. Analyzing a specific corpus based on a theme"
   ]
  },
  {
   "cell_type": "code",
   "execution_count": 18,
   "metadata": {
    "collapsed": true
   },
   "outputs": [],
   "source": [
    "def get_title(Corpus, theme_id):\n",
    "    title = ''\n",
    "    for article in Corpus:\n",
    "        if article['theme.id'] == theme_id:\n",
    "            title = article['title']\n",
    "            break\n",
    "    return title"
   ]
  },
  {
   "cell_type": "markdown",
   "metadata": {},
   "source": [
    "### 6.0 Selecting the specific theme (a sub-corpus)."
   ]
  },
  {
   "cell_type": "code",
   "execution_count": 40,
   "metadata": {
    "collapsed": false
   },
   "outputs": [],
   "source": [
    "## For a different sub-corpus use a corresponding theme ID.\n",
    "current_theme_id = 0"
   ]
  },
  {
   "cell_type": "code",
   "execution_count": 41,
   "metadata": {
    "collapsed": true
   },
   "outputs": [],
   "source": [
    "current_title = get_title(OM_Corpus, current_theme_id)"
   ]
  },
  {
   "cell_type": "code",
   "execution_count": 42,
   "metadata": {
    "collapsed": false
   },
   "outputs": [
    {
     "name": "stdout",
     "output_type": "stream",
     "text": [
      "Do it yourself :: Do_It_Yourself\n"
     ]
    }
   ],
   "source": [
    "output_fname = \"_\".join([word.capitalize() for word in current_title.split(\" \")])\n",
    "print(current_title, \"::\", output_fname)"
   ]
  },
  {
   "cell_type": "code",
   "execution_count": 43,
   "metadata": {
    "collapsed": true
   },
   "outputs": [],
   "source": [
    "# Note that theme.id: 0 corresponds to the the Do IT YOURSELF\n",
    "input_text = \" \".join([page['text'] for page in OM_Corpus if page['title'] == current_title])"
   ]
  },
  {
   "cell_type": "code",
   "execution_count": 44,
   "metadata": {
    "collapsed": false
   },
   "outputs": [
    {
     "name": "stdout",
     "output_type": "stream",
     "text": [
      "Do it yourself \n",
      " For other uses see \n",
      " Do it yourself disambiguation \n",
      " \"DIY\" redirects here For other uses see \n",
      " DIY disambiguation \n",
      " This article has multiple issues \n",
      " Please help \n",
      " improve it \n",
      " or discuss these issues on the \n",
      " talk page \n",
      " Learn how and when to remove these template messages \n",
      " This article \n",
      " possibly contains \n",
      " original research \n",
      " Please \n",
      " improve it \n",
      " by \n",
      " verifying \n",
      " the claims made and adding \n",
      " inline citations \n",
      " Statements consisting only of original research should be removed \n",
      " November \n",
      " Learn how and when to remove this template message \n",
      " This article \n",
      " needs additional or better citations for \n",
      " verification \n",
      " Please help \n",
      " improve this article \n",
      " by \n",
      " adding citations to reliable sources \n",
      " Unsourced material may be challenged and removed \n",
      " September \n",
      " Learn how and when to remove this template message \n",
      " Learn how and when to remove this template message \n",
      " Part of a series on \n",
      " Individualism \n",
      " Topics and concepts \n",
      " Autonomy \n",
      " Civil liberties \n",
      " Do it yourself \n",
      " Eremitism \n",
      " Free love \n",
      " Freethought \n",
      " Human rights \n",
      " Individual \n",
      " Individual rights \n",
      " Individual reclamation \n",
      " Individuation \n",
      " Laissez-faire \n",
      " Libertinism \n",
      " Liberty \n",
      " Methodological individualism \n",
      " Negative liberty \n",
      " Personal property \n",
      " Positive liberty \n",
      " Private property \n",
      " Self-actualization \n",
      " Self-ownership \n",
      " Self reliance \n",
      " Subjectivity \n",
      " Thinkers \n",
      " Antiphon \n",
      " Aristippus \n",
      " Aristotle \n",
      " mile Armand \n",
      " Albert Camus \n",
      " Diogenes of Sinope \n",
      " Ralph Waldo Emerson \n",
      " Epicurus \n",
      " William Godwin \n",
      " Emma Goldman \n",
      " Friedrich Hayek \n",
      " Karl Hess \n",
      " Miguel Gimnez Igualada \n",
      " Thomas Jefferson \n",
      " Laozi \n",
      " Albert Libertad \n",
      " John Locke \n",
      " Hipparchia of Maroneia \n",
      " H L Mencken \n",
      " John Stuart Mill \n",
      " Ludwig von Mises \n",
      " Michel de Montaigne \n",
      " Friedrich Nietzsche \n",
      " Renzo Novatore \n",
      " Robert Nozick \n",
      " Michel Onfray \n",
      " Georges Palante \n",
      " Horst Matthai Quelle \n",
      " Ayn Rand \n",
      " Murray Rothbard \n",
      " Han Ryner \n",
      " Marquis de Sade \n",
      " Arthur Schopenhauer \n",
      " Adam Smith \n",
      " Herbert Spencer \n",
      " Lysander Spooner \n",
      " Max Stirner \n",
      " Henry David Thoreau \n",
      " Benjamin Tucker \n",
      " James L Walker \n",
      " Josiah Warren \n",
      " Oscar Wilde \n",
      " Zeno \n",
      " Yang Zhu \n",
      " Philosophies \n",
      " Anarchism \n",
      " Anarcho-capitalism \n",
      " Classical liberalism \n",
      " Egoist anarchism \n",
      " Ethical egoism \n",
      " Existentialism \n",
      " Hedonism \n",
      " Humanism \n",
      " Individualist anarchism \n",
      " Individualist feminism \n",
      " Equity feminism \n",
      " Liberal feminism \n",
      " Left-libertarianism \n",
      " Left-wing market anarchism \n",
      " Liberalism \n",
      " Libertarianism \n",
      " Libertarian socialism \n",
      " Minarchism \n",
      " Mutualism \n",
      " Objectivism \n",
      " Right libertarianism \n",
      " Social anarchism \n",
      " Voluntaryism \n",
      " Principal concerns \n",
      " Anti-individualism \n",
      " Authoritarianism \n",
      " Collectivism \n",
      " Conformity \n",
      " Dogmatism \n",
      " Group rights \n",
      " Herd mentality \n",
      " Indoctrination \n",
      " Mass society \n",
      " Mobbing \n",
      " Social engineering \n",
      " Statism \n",
      " Tyranny \n",
      " Tyranny of the majority \n",
      " Theocracy \n",
      " Totalitarianism \n",
      " v \n",
      " t \n",
      " e \n",
      " Boy building a \n",
      " model airplane \n",
      " Texas photograph by \n",
      " Arthur Rothstein \n",
      " for the \n",
      " Farm Security Administration \n",
      " Do it yourself \n",
      " DIY \n",
      " is the method of building modifying or \n",
      " repairing \n",
      " things without the direct aid of experts or professionals Academic research describes DIY as behaviors where \"individuals engage raw and semi-raw materials and component parts to produce transform or reconstruct material possessions including those drawn from the natural environment e g landscaping \" \n",
      " DIY behavior can be triggered by various motivations previously categorized as \n",
      " marketplace \n",
      " motivations economic benefits lack of product availability lack of product quality need for customization and \n",
      " identity \n",
      " enhancement craftsmanship empowerment community seeking uniqueness \n",
      " The term \"do-it-yourself\" has been associated with consumers since at least primarily in the domain of home improvement and maintenance activities \n",
      " The phrase \"do it yourself\" had come into common usage in standard English by the 1950s \n",
      " in reference to the emergence of a trend of people undertaking \n",
      " home improvement \n",
      " and various other small craft and construction projects as both a creative-recreational and cost-saving activity \n",
      " Subsequently the term DIY has taken on a broader meaning that covers a wide range of skill sets DIY is associated with the international \n",
      " alternative rock \n",
      " punk rock \n",
      " and \n",
      " indie rock \n",
      " music scenes \n",
      " indymedia \n",
      " networks \n",
      " pirate radio \n",
      " stations and the \n",
      " zine \n",
      " community In this context DIY is related to the \n",
      " Arts and Crafts movement \n",
      " in that it offers an alternative to modern \n",
      " consumer culture \n",
      " 's emphasis on relying on others to satisfy needs The abbreviation DIY is also widely used in the military as a way to teach commanders or other types of units to take responsibility so that they'd be able to do things themselves just as a preparation for their own future \n",
      " Home improvement \n",
      " Fashion \n",
      " Subculture \n",
      " Groups and Publications \n",
      " Italian archaeologists unearthed the ruins of a 6th-century BC \n",
      " Greek \n",
      " structure in southern Italy that came with detailed assembly instructions and is being called an \"ancient \n",
      " IKEA \n",
      " building\" The structure was a \n",
      " temple-like \n",
      " building discovered at \n",
      " Torre Satriano \n",
      " near the southern city of \n",
      " Potenza \n",
      " in \n",
      " Basilicata \n",
      " a region where local people mingled with \n",
      " Greeks \n",
      " who settled along the southern coast known as \n",
      " Magna Graecia \n",
      " and in \n",
      " Sicily \n",
      " from the 8th century BC onwards Professor Christopher Smith director of the \n",
      " British School at Rome \n",
      " said that the discovery was \"the clearest example yet found of mason's marks of the time It looks as if someone was instructing others how to mass-produce components and put them together in this way\" Much like the instruction booklets various sections of the luxury building were inscribed with coded symbols showing how the pieces slotted together The characteristics of these inscriptions indicate they date back to around the 6th century BC which tallies with the architectural evidence suggested by the decoration The building was built by Greek artisans coming from the \n",
      " Spartan \n",
      " colony of \n",
      " Taranto \n",
      " in \n",
      " Apulia \n",
      " Home improvement \n",
      " Home improvement \n",
      " Shelves attached to a toy vehicle \n",
      " The DIY movement is a re-introduction often to urban and suburban dwellers of the old pattern of personal involvement and use of skills in upkeep of a house or apartment making clothes maintenance of cars computers websites or any material aspect of living The philosopher \n",
      " Alan Watts \n",
      " from the \" \n",
      " Houseboat Summit \n",
      " \" panel discussion in a edition of the \n",
      " San Francisco Oracle \n",
      " reflected a growing sentiment \n",
      " Our educational system in its entirety does nothing to give us any kind of material competence In other words we don't learn how to cook how to make clothes how to build houses how to make love or to do any of the absolutely fundamental things of life The whole education that we get for our children in school is entirely in terms of abstractions It trains you to be an insurance salesman or a bureaucrat or some kind of cerebral character \n",
      " In the 1970s DIY spread through the North American population of college- and recent-college-graduate age groups In part this movement involved the renovation of affordable rundown older homes But it also related to various projects expressing the social and environmental vision of the 1960s and early 1970s The young visionary \n",
      " Stewart Brand \n",
      " working with friends and family and initially using the most basic of typesetting and page-layout tools published the first edition of \n",
      " The \n",
      " Whole Earth Catalog \n",
      " subtitled \n",
      " Access to Tools \n",
      " in late \n",
      " Fiberglass dome house California in style of the Whole Earth Catalog building techniques \n",
      " The first \n",
      " Catalog \n",
      " and its successors used a broad definition of the term \"tools\" There were informational tools such as books often technical in nature professional journals courses classes and the like There were specialized designed items such as \n",
      " carpenters \n",
      " ' and \n",
      " masons \n",
      " ' tools \n",
      " garden tools \n",
      " welding \n",
      " equipment \n",
      " chainsaws \n",
      " fiberglass materials and so on even early personal computers The designer \n",
      " J Baldwin \n",
      " acted as editor to include such items writing many of the reviews The \n",
      " Catalog' \n",
      " s publication both emerged from and spurred the great wave of experimentalism convention-breaking and do-it-yourself attitude of the late 1960s Often copied the \n",
      " Catalog \n",
      " appealed to a wide cross-section of people in North America and had a broad influence \n",
      " For decades magazines such as \n",
      " Popular Mechanics \n",
      " and \n",
      " Mechanix Illustrated \n",
      " offered a way for readers to keep current on useful practical skills and techniques DIY home improvement books began to flourish in the 1970s first created as collections of magazine articles An early extensive line of DIY how-to books was created by \n",
      " Sunset Books \n",
      " based upon previously published articles from their magazine \n",
      " Sunset \n",
      " based in California \n",
      " Time-Life \n",
      " Better Homes and Gardens \n",
      " and other publishers soon followed suit \n",
      " Electronics World \n",
      " home assembled amplifier \n",
      " In the mid-1990s DIY \n",
      " home-improvement \n",
      " content began to find its way onto the \n",
      " World Wide Web \n",
      " HouseNet was the earliest bulletin-board style site where users could share information HomeTips com established in early was among the first Web-based sites to deliver free extensive DIY home-improvement content created by expert authors \n",
      " citation needed \n",
      " Since the late 1990s DIY has exploded on the Web through thousands of sites \n",
      " In the 1970s when home video \n",
      " VCRs \n",
      " came along DIY instructors quickly grasped its potential for demonstrating processes by audio-visual means In the \n",
      " PBS \n",
      " television series \n",
      " This Old House \n",
      " starring \n",
      " Bob Vila \n",
      " premiered and this spurred a DIY television revolution The show was immensely popular educating people on how to improve their living conditions and the value of their house without the expense of paying someone else to do as much of the work In the \n",
      " HGTV \n",
      " Network cable television channel was launched in the United States and Canada followed in by the \n",
      " DIY Network \n",
      " cable television channel Both were launched to appeal to the growing percentage of North Americans interested in DIY topics from \n",
      " home improvement \n",
      " to \n",
      " knitting \n",
      " Such channels have multiple shows showing how to stretch one's budget to achieve professional-looking results \n",
      " Design Cents \n",
      " Design on a Dime \n",
      " etc while doing the work yourself \n",
      " Toolbelt Diva \n",
      " specifically caters to female DIYers \n",
      " Beyond magazines and television the scope of home improvement DIY continues to grow online where most mainstream media outlets now have extensive DIY-focused informational websites such as \n",
      " This Old House \n",
      " Martha Stewart \n",
      " Hometalk \n",
      " and the \n",
      " DIY Network \n",
      " These are often extensions of their magazine or television brand The growth of independent online DIY resources is also spiking \n",
      " The number of homeowners who \n",
      " blog \n",
      " about their experiences continues to grow along with DIY websites from smaller organizations \n",
      " Fashion \n",
      " Mennonite farmer's wife \n",
      " dressmaking \n",
      " DIY amongst the \n",
      " fashion \n",
      " community is popular With ideas being shared on social media such as \n",
      " YouTube \n",
      " about clothing jewellery and hair styles Techniques include \n",
      " distressing \n",
      " jeans bleaching jeans redesigning an old shirt and studding \n",
      " denim \n",
      " This trend is becoming popular \n",
      " Subculture \n",
      " Main articles \n",
      " DIY ethic \n",
      " and \n",
      " Maker culture \n",
      " The terms \"DIY\" and \"do-it-yourself\" are also used to describe \n",
      " Zines \n",
      " London \n",
      " Self-publishing \n",
      " books \n",
      " zines \n",
      " and \n",
      " alternative comics \n",
      " Bands or solo artists releasing their music on self-funded \n",
      " record labels \n",
      " Trading of mixtapes as part of \n",
      " cassette culture \n",
      " Homemade stuffs based on the principles of \" \n",
      " Recycle \n",
      " Reuse \n",
      " & \n",
      " Reduce \n",
      " \" the \n",
      " 3R's \n",
      " A common term in many \n",
      " Environmental movements \n",
      " encouraging people to reuse old used objects found in their homes and to recycle simple materials like paper \n",
      " Crafts \n",
      " such as \n",
      " knitting \n",
      " crochet \n",
      " sewing \n",
      " handmade jewelry \n",
      " ceramics \n",
      " Designing business cards invitations and so on \n",
      " Creating \n",
      " punk \n",
      " or \n",
      " indie \n",
      " musical merchandise through the use of \n",
      " recycling \n",
      " thrift store \n",
      " or discarded materials usually decorated with art applied by \n",
      " silk screen \n",
      " Independent game development \n",
      " and \n",
      " game modding \n",
      " Contemporary \n",
      " roller derby \n",
      " Skateparks built by skateboarders without paid professional assistance \n",
      " Building musical electronic circuits such as the \n",
      " Atari Punk Console \n",
      " and create \n",
      " circuit bending \n",
      " noise machines from old children toys \n",
      " Modifying \"mod'ing\" common products to allow extended or unintended uses commonly referred to by the internet term \"life-hacking\" Related to \n",
      " jury-rigging \n",
      " i e sloppy/ unikely mods \n",
      " DIY electronics like \n",
      " littleBits \n",
      " DIY science using \n",
      " open-source hardware \n",
      " to make \n",
      " scientific equipment \n",
      " to conduct \n",
      " citizen science \n",
      " or simply low-cost traditional science \n",
      " Using low-cost \n",
      " single-board computers \n",
      " such as \n",
      " Arduino \n",
      " and \n",
      " Raspberry Pi \n",
      " as \n",
      " embedded systems \n",
      " with various applications \n",
      " DIY bio \n",
      " Drink mixing robot \n",
      " DIY as a subculture could be said to have begun with the \n",
      " punk movement \n",
      " of the 1970s \n",
      " Instead of traditional means of bands reaching their audiences through large music labels bands began recording manufacturing albums and merchandise booking their own tours and creating opportunities for smaller bands to get wider recognition and gain cult status through repetitive low-cost DIY touring The burgeoning \n",
      " zine \n",
      " movement took up coverage of and promotion of the \n",
      " underground \n",
      " punk scenes and significantly altered the way fans interacted with musicians Zines quickly branched off from being hand-made music magazines to become more personal they quickly became one of the youth culture's gateways to \n",
      " DIY culture \n",
      " This led to tutorial zines showing others how to make their own shirts posters zines books food etc \n",
      " Groups and Publications \n",
      " This section \n",
      " is in a list format that may be better presented using \n",
      " prose \n",
      " You can help by converting this section to prose if \n",
      " appropriate \n",
      " Editing help \n",
      " is available \n",
      " November \n",
      " Maker Faire Detroit \n",
      " Publications and websites that focus on DIY and/or crafting content include \n",
      " Bazaar Bizarre \n",
      " an informal craft show and a book with the same name emphasizing subcultural aesthetics \n",
      " Craft \n",
      " a magazine publication focusing on projects using cheap materials \n",
      " Craftster \n",
      " an online crafting community making use of traditional crafting techniques \n",
      " CrimethInc \n",
      " an anarchist collective encouraging self-publishing \n",
      " Rendered \n",
      " formerly \n",
      " Destination DIY \n",
      " an Oregon radio show discussing DIY projects \n",
      " Hometalk \n",
      " a social networking site focusing on home improvement \n",
      " Instructables \n",
      " a website featuring user-published DIY projects on a wide range of topics \n",
      " Lifehacker \n",
      " a website revolving around life tips \n",
      " Make \n",
      " a magazine publication covering a wide array of complex projects \n",
      " Maker Faire \n",
      " regular conferences exhibitions and events in various places sometimes for a very large attendance sponsored by \n",
      " Make \n",
      " magazine \n",
      " Microcosm Publishing \n",
      " a publisher that encourages self-empowerment \n",
      " Popular Mechanics \n",
      " a magazine featuring popular technology \n",
      " ReadyMade \n",
      " a magazine that focused on sustainable design and independent music \n",
      " TechShop \n",
      " a chain of workshops enabling people of various skill levels to use industrial equipment \n",
      " Wikibooks has a book on the topic of \n",
      " Do-It-Yourself \n",
      " Look up \n",
      " do it yourself \n",
      " in Wiktionary the free dictionary \n",
      " Wikimedia Commons has media related to \n",
      " Do It Yourself DIY \n",
      " Bricolage \n",
      " Circuit bending \n",
      " Edupunk \n",
      " Hackerspace \n",
      " Handyman \n",
      " Instructables \n",
      " Junk box \n",
      " Kludge \n",
      " Maker culture \n",
      " Number wire \n",
      " Open Design \n",
      " Project GreenOman \n",
      " Prosumer \n",
      " Ready-to-assemble furniture \n",
      " 3D printing \n",
      " How-to\n"
     ]
    }
   ],
   "source": [
    "print(input_text)"
   ]
  },
  {
   "cell_type": "code",
   "execution_count": 45,
   "metadata": {
    "collapsed": false
   },
   "outputs": [
    {
     "name": "stdout",
     "output_type": "stream",
     "text": [
      "2703 Do it yourself\n"
     ]
    }
   ],
   "source": [
    "# Tokenizing the input text:\n",
    "tokenized = tokenizer.tokenize_words(input_text)\n",
    "number_of_words = len(tokenized)\n",
    "print(number_of_words ,current_title)"
   ]
  },
  {
   "cell_type": "markdown",
   "metadata": {},
   "source": [
    "### 6.1 Computing frequency distributions of each token, i.e word, term, pancuation, etc."
   ]
  },
  {
   "cell_type": "code",
   "execution_count": 46,
   "metadata": {
    "collapsed": true
   },
   "outputs": [],
   "source": [
    "input_freq_dist = FreqDist(tokenized)"
   ]
  },
  {
   "cell_type": "code",
   "execution_count": 47,
   "metadata": {
    "collapsed": false
   },
   "outputs": [
    {
     "data": {
      "text/plain": [
       "[('\\n', 472),\n",
       " ('the', 100),\n",
       " ('of', 72),\n",
       " ('and', 66),\n",
       " ('to', 59),\n",
       " ('a', 40),\n",
       " ('diy', 38),\n",
       " ('in', 38),\n",
       " ('\"', 26),\n",
       " ('as', 21),\n",
       " ('on', 20),\n",
       " ('this', 17),\n",
       " ('or', 17),\n",
       " ('by', 16),\n",
       " ('with', 14),\n",
       " ('it', 13),\n",
       " ('how', 13),\n",
       " ('for', 12),\n",
       " ('is', 12),\n",
       " ('home', 11)]"
      ]
     },
     "execution_count": 47,
     "metadata": {},
     "output_type": "execute_result"
    }
   ],
   "source": [
    "input_freq_dist.most_common(20)"
   ]
  },
  {
   "cell_type": "markdown",
   "metadata": {},
   "source": [
    "### 6.2 Removing punctuation and stopwords from the input corpus"
   ]
  },
  {
   "cell_type": "code",
   "execution_count": 48,
   "metadata": {
    "collapsed": false
   },
   "outputs": [
    {
     "data": {
      "text/plain": [
       "[('diy', 38),\n",
       " ('home', 11),\n",
       " ('improvement', 9),\n",
       " ('building', 8),\n",
       " ('magazine', 8),\n",
       " ('various', 7),\n",
       " ('people', 6),\n",
       " ('projects', 6),\n",
       " ('old', 6),\n",
       " ('make', 6),\n",
       " ('tools', 6),\n",
       " ('books', 6),\n",
       " ('popular', 6),\n",
       " ('television', 6),\n",
       " ('learn', 5),\n",
       " ('anarchism', 5),\n",
       " ('social', 5),\n",
       " ('materials', 5),\n",
       " ('term', 5),\n",
       " ('wide', 5),\n",
       " ('punk', 5),\n",
       " ('music', 5),\n",
       " ('movement', 5),\n",
       " ('culture', 5),\n",
       " ('way', 5),\n",
       " ('house', 5),\n",
       " ('1970s', 5),\n",
       " ('using', 5),\n",
       " ('zines', 5),\n",
       " ('article', 4),\n",
       " ('help', 4),\n",
       " ('improve', 4),\n",
       " ('remove', 4),\n",
       " ('template', 4),\n",
       " ('material', 4),\n",
       " ('personal', 4),\n",
       " ('community', 4),\n",
       " ('do-it-yourself', 4),\n",
       " ('related', 4),\n",
       " ('used', 4),\n",
       " ('use', 4),\n",
       " ('websites', 4),\n",
       " ('early', 4),\n",
       " ('first', 4),\n",
       " ('catalog', 4),\n",
       " ('techniques', 4),\n",
       " ('design', 4),\n",
       " ('maker', 4),\n",
       " ('bands', 4),\n",
       " ('uses', 3),\n",
       " ('please', 3),\n",
       " ('research', 3),\n",
       " ('citations', 3),\n",
       " ('message', 3),\n",
       " ('better', 3),\n",
       " ('part', 3),\n",
       " ('topics', 3),\n",
       " ('free', 3),\n",
       " ('rights', 3),\n",
       " ('individual', 3),\n",
       " ('liberty', 3),\n",
       " ('feminism', 3),\n",
       " ('e', 3),\n",
       " ('things', 3),\n",
       " ('without', 3),\n",
       " ('common', 3),\n",
       " ('craft', 3),\n",
       " ('alternative', 3),\n",
       " ('rock', 3),\n",
       " ('others', 3),\n",
       " ('fashion', 3),\n",
       " ('subculture', 3),\n",
       " ('groups', 3),\n",
       " ('publications', 3),\n",
       " ('bc', 3),\n",
       " ('southern', 3),\n",
       " ('along', 3),\n",
       " ('showing', 3),\n",
       " ('computers', 3),\n",
       " ('whole', 3)]"
      ]
     },
     "execution_count": 48,
     "metadata": {},
     "output_type": "execute_result"
    }
   ],
   "source": [
    "for stopword in STOP_WORDS:\n",
    "    if stopword in input_freq_dist:\n",
    "        del input_freq_dist[stopword]\n",
    "        \n",
    "for punctuation in tokenizer.CHARACTERS_TO_SPLIT:\n",
    "    if punctuation in input_freq_dist:\n",
    "        del input_freq_dist[punctuation]\n",
    "\n",
    "# Re-control most common words after cleaning:\n",
    "input_freq_dist.most_common(80)"
   ]
  },
  {
   "cell_type": "markdown",
   "metadata": {},
   "source": [
    "### 6.3 Removing rare words from input distribution"
   ]
  },
  {
   "cell_type": "code",
   "execution_count": 49,
   "metadata": {
    "collapsed": true
   },
   "outputs": [],
   "source": [
    "input_freq_dist = {k:v for k,v in input_freq_dist.items() if v > 1}"
   ]
  },
  {
   "cell_type": "markdown",
   "metadata": {},
   "source": [
    "## 7. Comparing input vs English corpus volumes"
   ]
  },
  {
   "cell_type": "markdown",
   "metadata": {},
   "source": [
    "### 7.1 Total words (after cleaning) "
   ]
  },
  {
   "cell_type": "code",
   "execution_count": 50,
   "metadata": {
    "collapsed": false
   },
   "outputs": [
    {
     "data": {
      "text/plain": [
       "(688, 679519)"
      ]
     },
     "execution_count": 50,
     "metadata": {},
     "output_type": "execute_result"
    }
   ],
   "source": [
    "n_input = sum(input_freq_dist.values())\n",
    "n_english = sum(english_freq_dist.values())\n",
    "n_input, n_english"
   ]
  },
  {
   "cell_type": "markdown",
   "metadata": {},
   "source": [
    "### 7.2 Unique words (after cleaning)"
   ]
  },
  {
   "cell_type": "code",
   "execution_count": 51,
   "metadata": {
    "collapsed": false
   },
   "outputs": [
    {
     "data": {
      "text/plain": [
       "(224, 20591)"
      ]
     },
     "execution_count": 51,
     "metadata": {},
     "output_type": "execute_result"
    }
   ],
   "source": [
    "n_unique_word_input = len(input_freq_dist.items())\n",
    "n_unique_word_brown = len(english_freq_dist.items())\n",
    "n_unique_word_input, n_unique_word_brown"
   ]
  },
  {
   "cell_type": "markdown",
   "metadata": {},
   "source": [
    "### 7.3 Cleaned set of input words/terms"
   ]
  },
  {
   "cell_type": "markdown",
   "metadata": {},
   "source": [
    "List of words in the corpus in case, for a visual inspection. Such inspections will be used both to improve tokenization as well as filtering."
   ]
  },
  {
   "cell_type": "code",
   "execution_count": 52,
   "metadata": {
    "collapsed": false
   },
   "outputs": [
    {
     "data": {
      "text/plain": [
       "{\"'\": 2,\n",
       " '1960s': 2,\n",
       " '1970s': 5,\n",
       " 'adding': 2,\n",
       " 'albert': 2,\n",
       " 'along': 3,\n",
       " 'alternative': 3,\n",
       " 'anarchism': 5,\n",
       " 'around': 2,\n",
       " 'arthur': 2,\n",
       " 'article': 4,\n",
       " 'articles': 3,\n",
       " 'associated': 2,\n",
       " 'bands': 4,\n",
       " 'based': 3,\n",
       " 'bc': 3,\n",
       " 'began': 3,\n",
       " 'bending': 2,\n",
       " 'better': 3,\n",
       " 'book': 2,\n",
       " 'books': 6,\n",
       " 'brand': 2,\n",
       " 'broad': 2,\n",
       " 'building': 8,\n",
       " 'built': 2,\n",
       " 'cable': 2,\n",
       " 'california': 2,\n",
       " 'came': 2,\n",
       " 'catalog': 4,\n",
       " 'century': 2,\n",
       " 'channel': 2,\n",
       " 'children': 2,\n",
       " 'circuit': 2,\n",
       " 'citations': 3,\n",
       " 'clothes': 2,\n",
       " 'common': 3,\n",
       " 'community': 4,\n",
       " 'computers': 3,\n",
       " 'content': 3,\n",
       " 'continues': 2,\n",
       " 'craft': 3,\n",
       " 'crafting': 3,\n",
       " 'crafts': 2,\n",
       " 'created': 3,\n",
       " 'creating': 2,\n",
       " 'culture': 5,\n",
       " 'de': 2,\n",
       " 'design': 4,\n",
       " 'disambiguation': 2,\n",
       " 'diy': 38,\n",
       " 'do-it-yourself': 4,\n",
       " 'e': 3,\n",
       " 'early': 4,\n",
       " 'earth': 2,\n",
       " 'edition': 2,\n",
       " 'electronics': 2,\n",
       " 'encouraging': 2,\n",
       " 'environmental': 2,\n",
       " 'equipment': 3,\n",
       " 'etc': 2,\n",
       " 'extensive': 3,\n",
       " 'faire': 2,\n",
       " 'fashion': 3,\n",
       " 'featuring': 2,\n",
       " 'feminism': 3,\n",
       " 'fiberglass': 2,\n",
       " 'first': 4,\n",
       " 'focusing': 2,\n",
       " 'followed': 2,\n",
       " 'found': 2,\n",
       " 'free': 3,\n",
       " 'friedrich': 2,\n",
       " 'game': 2,\n",
       " 'greek': 2,\n",
       " 'groups': 3,\n",
       " 'grow': 2,\n",
       " 'growing': 2,\n",
       " 'help': 4,\n",
       " 'home': 11,\n",
       " 'home-improvement': 2,\n",
       " 'homes': 3,\n",
       " 'hometalk': 2,\n",
       " 'house': 5,\n",
       " 'how-to': 2,\n",
       " 'improve': 4,\n",
       " 'improvement': 9,\n",
       " 'include': 3,\n",
       " 'independent': 3,\n",
       " 'indie': 2,\n",
       " 'individual': 3,\n",
       " 'individualism': 2,\n",
       " 'individualist': 2,\n",
       " 'informational': 2,\n",
       " 'instructables': 2,\n",
       " 'issues': 2,\n",
       " 'items': 2,\n",
       " 'jeans': 2,\n",
       " 'john': 2,\n",
       " 'kind': 2,\n",
       " 'knitting': 2,\n",
       " 'l': 2,\n",
       " 'labels': 2,\n",
       " 'lack': 2,\n",
       " 'large': 2,\n",
       " 'late': 3,\n",
       " 'launched': 2,\n",
       " 'learn': 5,\n",
       " 'liberalism': 2,\n",
       " 'libertarianism': 2,\n",
       " 'liberty': 3,\n",
       " 'life': 2,\n",
       " 'living': 2,\n",
       " 'love': 2,\n",
       " 'low-cost': 3,\n",
       " 'magazine': 8,\n",
       " 'magazines': 3,\n",
       " 'maintenance': 2,\n",
       " 'make': 6,\n",
       " 'maker': 4,\n",
       " 'making': 2,\n",
       " 'material': 4,\n",
       " 'materials': 5,\n",
       " 'means': 2,\n",
       " 'mechanics': 2,\n",
       " 'media': 3,\n",
       " 'merchandise': 2,\n",
       " 'message': 3,\n",
       " 'michel': 2,\n",
       " 'modifying': 2,\n",
       " 'motivations': 2,\n",
       " 'movement': 5,\n",
       " 'much': 2,\n",
       " 'multiple': 2,\n",
       " 'music': 5,\n",
       " 'musical': 2,\n",
       " 'needs': 2,\n",
       " 'network': 3,\n",
       " 'north': 3,\n",
       " 'november': 2,\n",
       " 'number': 2,\n",
       " 'old': 6,\n",
       " 'online': 3,\n",
       " 'original': 2,\n",
       " 'others': 3,\n",
       " 'part': 3,\n",
       " 'people': 6,\n",
       " 'personal': 4,\n",
       " 'please': 3,\n",
       " 'popular': 6,\n",
       " 'previously': 2,\n",
       " 'product': 2,\n",
       " 'professional': 2,\n",
       " 'projects': 6,\n",
       " 'property': 2,\n",
       " 'prose': 2,\n",
       " 'publication': 3,\n",
       " 'publications': 3,\n",
       " 'published': 2,\n",
       " 'punk': 5,\n",
       " 'quickly': 3,\n",
       " 'radio': 2,\n",
       " 'range': 2,\n",
       " 'recycle': 2,\n",
       " 'related': 4,\n",
       " 'remove': 4,\n",
       " 'removed': 2,\n",
       " 'research': 3,\n",
       " 'reuse': 2,\n",
       " 'rights': 3,\n",
       " 'rock': 3,\n",
       " 'said': 2,\n",
       " 'scenes': 2,\n",
       " 'school': 2,\n",
       " 'science': 3,\n",
       " 'section': 2,\n",
       " 'see': 2,\n",
       " 'self-publishing': 2,\n",
       " 'series': 2,\n",
       " 'show': 3,\n",
       " 'showing': 3,\n",
       " 'since': 2,\n",
       " 'site': 2,\n",
       " 'sites': 2,\n",
       " 'skill': 2,\n",
       " 'skills': 2,\n",
       " 'smaller': 2,\n",
       " 'smith': 2,\n",
       " 'social': 5,\n",
       " 'someone': 2,\n",
       " 'southern': 3,\n",
       " 'spurred': 2,\n",
       " 'stewart': 2,\n",
       " 'structure': 2,\n",
       " 'style': 2,\n",
       " 'subculture': 3,\n",
       " 'sunset': 2,\n",
       " 'techniques': 4,\n",
       " 'television': 6,\n",
       " 'template': 4,\n",
       " 'term': 5,\n",
       " 'terms': 2,\n",
       " 'things': 3,\n",
       " 'together': 2,\n",
       " 'tools': 6,\n",
       " 'topics': 3,\n",
       " 'traditional': 3,\n",
       " 'trend': 2,\n",
       " 'tyranny': 2,\n",
       " 'use': 4,\n",
       " 'used': 4,\n",
       " 'uses': 3,\n",
       " 'using': 5,\n",
       " 'various': 7,\n",
       " 'way': 5,\n",
       " 'web': 2,\n",
       " 'website': 2,\n",
       " 'websites': 4,\n",
       " 'whole': 3,\n",
       " 'wide': 5,\n",
       " 'without': 3,\n",
       " 'work': 2,\n",
       " 'world': 2,\n",
       " 'zine': 2,\n",
       " 'zines': 5}"
      ]
     },
     "execution_count": 52,
     "metadata": {},
     "output_type": "execute_result"
    }
   ],
   "source": [
    "input_freq_dist"
   ]
  },
  {
   "cell_type": "markdown",
   "metadata": {},
   "source": [
    "### 7.4 Set of terms/words that occure in both corpus."
   ]
  },
  {
   "cell_type": "code",
   "execution_count": 53,
   "metadata": {
    "collapsed": false
   },
   "outputs": [
    {
     "name": "stdout",
     "output_type": "stream",
     "text": [
      "191\n"
     ]
    }
   ],
   "source": [
    "common_words = [w for w in input_freq_dist.keys() & english_freq_dist.keys()]\n",
    "print(len(common_words))"
   ]
  },
  {
   "cell_type": "code",
   "execution_count": 54,
   "metadata": {
    "collapsed": false
   },
   "outputs": [
    {
     "name": "stdout",
     "output_type": "stream",
     "text": [
      "albert\n",
      "show\n",
      "spurred\n",
      "children\n",
      "remove\n",
      "without\n",
      "motivations\n",
      "part\n",
      "north\n",
      "range\n",
      "launched\n",
      "uses\n",
      "first\n",
      "previously\n",
      "individualism\n",
      "using\n",
      "found\n",
      "labels\n",
      "network\n",
      "around\n",
      "community\n",
      "kind\n",
      "prose\n",
      "professional\n",
      "published\n",
      "original\n",
      "merchandise\n",
      "late\n",
      "sites\n",
      "skills\n",
      "l\n",
      "whole\n",
      "focusing\n",
      "used\n",
      "alternative\n",
      "improve\n",
      "please\n",
      "make\n",
      "game\n",
      "living\n",
      "traditional\n",
      "building\n",
      "grow\n",
      "e\n",
      "school\n",
      "article\n",
      "trend\n",
      "scenes\n",
      "along\n",
      "created\n",
      "people\n",
      "environmental\n",
      "message\n",
      "electronics\n",
      "terms\n",
      "others\n",
      "series\n",
      "stewart\n",
      "brand\n",
      "music\n",
      "radio\n",
      "world\n",
      "common\n",
      "showing\n",
      "needs\n",
      "edition\n",
      "removed\n",
      "lack\n",
      "musical\n",
      "old\n",
      "free\n",
      "mechanics\n",
      "featuring\n",
      "based\n",
      "quickly\n",
      "projects\n",
      "began\n",
      "house\n",
      "someone\n",
      "better\n",
      "tools\n",
      "independent\n",
      "skill\n",
      "bending\n",
      "california\n",
      "web\n",
      "means\n",
      "'\n",
      "life\n",
      "encouraging\n",
      "fashion\n",
      "number\n",
      "channel\n",
      "multiple\n",
      "earth\n",
      "homes\n",
      "large\n",
      "maintenance\n",
      "issues\n",
      "growing\n",
      "cable\n",
      "use\n",
      "site\n",
      "circuit\n",
      "low-cost\n",
      "articles\n",
      "followed\n",
      "television\n",
      "home\n",
      "maker\n",
      "topics\n",
      "built\n",
      "since\n",
      "research\n",
      "craft\n",
      "de\n",
      "john\n",
      "items\n",
      "publication\n",
      "various\n",
      "liberalism\n",
      "do-it-yourself\n",
      "wide\n",
      "came\n",
      "making\n",
      "associated\n",
      "rock\n",
      "magazines\n",
      "media\n",
      "adding\n",
      "design\n",
      "liberty\n",
      "learn\n",
      "techniques\n",
      "bands\n",
      "work\n",
      "property\n",
      "term\n",
      "southern\n",
      "help\n",
      "broad\n",
      "groups\n",
      "include\n",
      "way\n",
      "magazine\n",
      "much\n",
      "smith\n",
      "clothes\n",
      "modifying\n",
      "product\n",
      "early\n",
      "arthur\n",
      "rights\n",
      "tyranny\n",
      "culture\n",
      "related\n",
      "equipment\n",
      "science\n",
      "together\n",
      "extensive\n",
      "smaller\n",
      "publications\n",
      "individual\n",
      "said\n",
      "style\n",
      "social\n",
      "individualist\n",
      "template\n",
      "november\n",
      "greek\n",
      "section\n",
      "personal\n",
      "love\n",
      "improvement\n",
      "book\n",
      "continues\n",
      "materials\n",
      "movement\n",
      "sunset\n",
      "see\n",
      "things\n",
      "popular\n",
      "computers\n",
      "content\n",
      "crafts\n",
      "creating\n",
      "catalog\n",
      "material\n",
      "structure\n",
      "century\n",
      "books\n"
     ]
    }
   ],
   "source": [
    "for w in common_words: print(w)"
   ]
  },
  {
   "cell_type": "markdown",
   "metadata": {},
   "source": [
    "### 7.5 Set of terms/words that occure in the sample but not in the reference corpus."
   ]
  },
  {
   "cell_type": "markdown",
   "metadata": {},
   "source": [
    "TO BE EXAMINED: This specific set needs to be incorporated. In fact, it may capture specifity of the content to a great extend. We need to assign a mapping score for each words in this set."
   ]
  },
  {
   "cell_type": "code",
   "execution_count": 55,
   "metadata": {
    "collapsed": false
   },
   "outputs": [
    {
     "name": "stdout",
     "output_type": "stream",
     "text": [
      "knitting\n",
      "zine\n",
      "subculture\n",
      "faire\n",
      "1970s\n",
      "disambiguation\n",
      "feminism\n",
      "bc\n",
      "crafting\n",
      "online\n",
      "hometalk\n",
      "punk\n",
      "anarchism\n",
      "websites\n",
      "website\n",
      "etc\n",
      "friedrich\n",
      "fiberglass\n",
      "1960s\n",
      "self-publishing\n",
      "zines\n",
      "libertarianism\n",
      "instructables\n",
      "recycle\n",
      "diy\n",
      "citations\n",
      "informational\n",
      "indie\n",
      "reuse\n",
      "home-improvement\n",
      "how-to\n",
      "michel\n",
      "jeans\n"
     ]
    }
   ],
   "source": [
    "input_specifics = dict()\n",
    "for w in input_freq_dist.keys() - english_freq_dist.keys():\n",
    "    input_specifics[w] = input_freq_dist[w]\n",
    "    print(w)"
   ]
  },
  {
   "cell_type": "code",
   "execution_count": 56,
   "metadata": {
    "collapsed": false
   },
   "outputs": [
    {
     "name": "stdout",
     "output_type": "stream",
     "text": [
      "33\n"
     ]
    }
   ],
   "source": [
    "print(len(input_specifics))"
   ]
  },
  {
   "cell_type": "markdown",
   "metadata": {},
   "source": [
    "## 8. Stemming (in case needed) "
   ]
  },
  {
   "cell_type": "code",
   "execution_count": 57,
   "metadata": {
    "collapsed": false
   },
   "outputs": [
    {
     "name": "stdout",
     "output_type": "stream",
     "text": [
      "uses -> use\n",
      "disambiguation -> disambigu\n",
      "article -> articl\n",
      "multiple -> multipl\n",
      "issues -> issu\n",
      "please -> pleas\n",
      "improve -> improv\n",
      "remove -> remov\n",
      "template -> templat\n",
      "original -> origin\n",
      "adding -> ad\n",
      "citations -> citat\n",
      "removed -> remov\n",
      "november -> novemb\n",
      "message -> messag\n",
      "needs -> need\n",
      "material -> materi\n",
      "series -> seri\n",
      "individualism -> individu\n",
      "topics -> topic\n",
      "rights -> right\n",
      "individual -> individu\n",
      "liberty -> liberti\n",
      "personal -> person\n",
      "property -> properti\n",
      "anarchism -> anarch\n",
      "liberalism -> liber\n",
      "feminism -> femin\n",
      "libertarianism -> libertarian\n",
      "tyranny -> tyranni\n",
      "building -> build\n",
      "modifying -> modifi\n",
      "things -> thing\n",
      "materials -> materi\n",
      "various -> variou\n",
      "motivations -> motiv\n",
      "previously -> previous\n",
      "community -> commun\n",
      "associated -> associ\n",
      "since -> sinc\n",
      "improvement -> improv\n",
      "maintenance -> mainten\n",
      "people -> peopl\n",
      "projects -> project\n",
      "range -> rang\n",
      "alternative -> altern\n",
      "indie -> indi\n",
      "scenes -> scene\n",
      "related -> relat\n",
      "crafts -> craft\n",
      "culture -> cultur\n",
      "others -> other\n",
      "used -> use\n",
      "subculture -> subcultur\n",
      "groups -> group\n",
      "publications -> public\n",
      "structure -> structur\n",
      "century -> centuri\n",
      "someone -> someon\n",
      "together -> togeth\n",
      "showing -> show\n",
      "skills -> skill\n",
      "house -> hous\n",
      "making -> make\n",
      "clothes -> cloth\n",
      "computers -> comput\n",
      "websites -> websit\n",
      "living -> live\n",
      "edition -> edit\n",
      "growing -> grow\n",
      "terms -> term\n",
      "1970s -> 1970\n",
      "homes -> home\n",
      "environmental -> environment\n",
      "1960s -> 1960\n",
      "early -> earli\n",
      "using -> use\n",
      "tools -> tool\n",
      "published -> publish\n",
      "techniques -> techniqu\n",
      "informational -> inform\n",
      "books -> book\n",
      "professional -> profession\n",
      "items -> item\n",
      "equipment -> equip\n",
      "include -> includ\n",
      "publication -> public\n",
      "spurred -> spur\n",
      "magazines -> magazin\n",
      "mechanics -> mechan\n",
      "created -> creat\n",
      "magazine -> magazin\n",
      "articles -> articl\n",
      "extensive -> extens\n",
      "based -> base\n",
      "followed -> follow\n",
      "electronics -> electron\n",
      "home-improvement -> home-improv\n",
      "sites -> site\n",
      "quickly -> quickli\n",
      "means -> mean\n",
      "television -> televis\n",
      "cable -> cabl\n",
      "launched -> launch\n",
      "knitting -> knit\n",
      "continues -> continu\n",
      "online -> onlin\n",
      "independent -> independ\n",
      "jeans -> jean\n",
      "zines -> zine\n",
      "self-publishing -> self-publish\n",
      "bands -> band\n",
      "labels -> label\n",
      "recycle -> recycl\n",
      "reuse -> reus\n",
      "encouraging -> encourag\n",
      "creating -> creat\n",
      "musical -> music\n",
      "merchandise -> merchandis\n",
      "bending -> bend\n",
      "science -> scienc\n",
      "traditional -> tradit\n",
      "large -> larg\n",
      "faire -> fair\n",
      "crafting -> craft\n",
      "focusing -> focus\n",
      "instructables -> instruct\n",
      "website -> websit\n",
      "featuring -> featur\n"
     ]
    }
   ],
   "source": [
    "from nltk.stem.porter import PorterStemmer\n",
    "stemmer = PorterStemmer()\n",
    "for k,v in input_freq_dist.items():\n",
    "    stemmed = stemmer.stem(k)\n",
    "    if stemmed != k: print(k, \"->\", stemmed)"
   ]
  },
  {
   "cell_type": "markdown",
   "metadata": {},
   "source": [
    "## 9. Computing representation power of common words."
   ]
  },
  {
   "cell_type": "code",
   "execution_count": 58,
   "metadata": {
    "collapsed": false
   },
   "outputs": [],
   "source": [
    "# combine\n",
    "makerness = {}\n",
    "# common_words = [w[0] for w in common_words]\n",
    "for w in common_words:\n",
    "    # Consider only words whose charcater length is larger than 1\n",
    "    if len(w) > 1:\n",
    "        # Log likelihood scores are computed:\n",
    "        score = log((input_freq_dist[w] / n_input) / (english_freq_dist[w] / n_english))\n",
    "        makerness[w] = (score, input_freq_dist[w])"
   ]
  },
  {
   "cell_type": "code",
   "execution_count": 59,
   "metadata": {
    "collapsed": false
   },
   "outputs": [
    {
     "name": "stdout",
     "output_type": "stream",
     "text": [
      "7.183033708437422 catalog 4\n",
      "6.672208084671431 do-it-yourself 4\n",
      "6.672208084671431 template 4\n",
      "6.489886527877476 labels 2\n",
      "6.489886527877476 individualist 2\n",
      "6.489886527877476 crafts 2\n",
      "6.38452601221965 computers 3\n",
      "6.202204455425695 featuring 2\n",
      "6.202204455425695 low-cost 3\n",
      "6.202204455425695 modifying 2\n",
      "5.979060904111486 motivations 2\n",
      "5.883750724307161 bands 4\n",
      "5.796739347317531 spurred 2\n",
      "5.796739347317531 focusing 2\n",
      "5.796739347317531 stewart 2\n",
      "5.796739347317531 web 2\n",
      "5.796739347317531 maker 4\n",
      "5.691378831659705 topics 3\n",
      "5.642588667490273 merchandise 2\n",
      "5.642588667490273 environmental 2\n",
      "5.642588667490273 bending 2\n",
      "5.642588667490273 cable 2\n",
      "5.429014567192214 media 3\n",
      "5.403696759207924 improvement 9\n",
      "5.31123153153583 magazine 8\n",
      "5.1906035437472156 tyranny 2\n",
      "5.160750580597535 tools 6\n",
      "5.103592166757586 individualism 2\n",
      "4.949441486930327 prose 2\n",
      "4.949441486930327 sunset 2\n",
      "4.880448615443376 liberalism 2\n",
      "4.858469708724601 craft 3\n",
      "4.858469708724601 publications 3\n",
      "4.815910094305805 sites 2\n",
      "4.815910094305805 channel 2\n",
      "4.77508809978555 television 6\n",
      "4.77508809978555 magazines 3\n",
      "4.75528547248937 brand 2\n",
      "4.644059837379146 mechanics 2\n",
      "4.618084350975884 improve 4\n",
      "4.592766542991595 network 3\n",
      "4.559976720168604 articles 3\n",
      "4.543976378822163 launched 2\n",
      "4.49745636318727 adding 2\n",
      "4.467603400037589 alternative 3\n",
      "4.467603400037589 projects 6\n",
      "4.4530046006164365 encouraging 2\n",
      "4.4530046006164365 circuit 2\n",
      "4.444346537873322 culture 5\n",
      "4.2212029865591125 albert 2\n",
      "4.2212029865591125 remove 4\n",
      "4.2212029865591125 scenes 2\n",
      "4.2212029865591125 creating 2\n",
      "4.209774290735489 extensive 3\n",
      "4.165322528164656 liberty 3\n",
      "4.13534169595272 term 5\n",
      "4.122762913745859 electronics 2\n",
      "4.122762913745859 books 6\n",
      "4.102143626543124 popular 6\n",
      "4.073972749576427 learn 5\n",
      "4.062138291929425 article 4\n",
      "4.023672011101628 content 3\n",
      "4.004979878089476 multiple 2\n",
      "3.9866307394212797 publication 3\n",
      "3.977580903901362 skills 2\n",
      "3.977580903901362 edition 2\n",
      "3.930078569916358 materials 5\n",
      "3.916426480748031 uses 3\n",
      "3.8996193624316495 building 8\n",
      "3.883090060480439 showing 3\n",
      "3.8749267498412783 continues 2\n",
      "3.8668295396086587 please 3\n",
      "3.8668295396086587 homes 3\n",
      "3.850829198262218 skill 2\n",
      "3.8350808412940784 message 3\n",
      "3.759857420056491 fashion 3\n",
      "3.7598574200564907 trend 2\n",
      "3.7454686826043915 independent 3\n",
      "3.6865261469709414 techniques 4\n",
      "3.67647581111744 wide 5\n",
      "3.67647581111744 rock 3\n",
      "3.65667318382126 arthur 2\n",
      "3.65667318382126 related 4\n",
      "3.652759284500124 movement 5\n",
      "3.6501585028000667 rights 3\n",
      "3.6372550979641587 traditional 3\n",
      "3.5995147699813117 created 3\n",
      "3.5995147699813117 smith 2\n",
      "3.545447548711036 design 4\n",
      "3.537956876981878 various 7\n",
      "3.5280558059991667 previously 2\n",
      "3.5280558059991667 using 5\n",
      "3.5053275549216107 quickly 3\n",
      "3.477624952372275 associated 2\n",
      "3.477624952372275 greek 2\n",
      "3.445364090154053 grow 2\n",
      "3.4296157331859143 maintenance 2\n",
      "3.4296157331859143 site 2\n",
      "3.414111546649949 california 2\n",
      "3.3988440745191606 issues 2\n",
      "3.3118326975295305 items 2\n",
      "3.2844337233414165 november 2\n",
      "3.2710107030092757 removed 2\n",
      "3.26657610594141 include 3\n",
      "3.231789989855994 smaller 2\n",
      "3.2148404315422208 based 3\n",
      "3.1656501873514493 groups 3\n",
      "3.1576820177022724 broad 2\n",
      "3.1458475600552696 musical 2\n",
      "3.129511140735576 music 5\n",
      "3.1225906978910025 product 2\n",
      "3.1225906978910025 material 4\n",
      "3.1187666014525988 science 3\n",
      "3.099862446813446 published 2\n",
      "3.099862446813446 clothes 2\n",
      "3.077639310028736 structure 2\n",
      "3.0739829988256253 southern 3\n",
      "3.045204034275582 someone 2\n",
      "3.003531337875014 style 2\n",
      "3.003531337875014 personal 4\n",
      "2.9887981063620304 home 11\n",
      "2.9537698283159504 original 2\n",
      "2.9537698283159504 built 2\n",
      "2.9345384663880627 professional 2\n",
      "2.9063675894213663 growing 2\n",
      "2.8880184507531697 lack 2\n",
      "2.8759701122369954 equipment 3\n",
      "2.8523003681510906 research 3\n",
      "2.839228286583738 community 4\n",
      "2.8065781188129955 late 3\n",
      "2.80100707376354 radio 2\n",
      "2.7844777718123295 de 2\n",
      "2.7763144611731687 game 2\n",
      "2.7209643660900036 series 2\n",
      "2.666087755864169 north 3\n",
      "2.5867921531936315 common 3\n",
      "2.5778635224493303 earth 2\n",
      "2.5646182956993098 needs 2\n",
      "2.5646182956993098 social 5\n",
      "2.5418530849262972 help 4\n",
      "2.538642809296049 property 2\n",
      "2.532253011197278 range 2\n",
      "2.51750037272224 individual 3\n",
      "2.4947486157388234 terms 2\n",
      "2.441004339732133 followed 2\n",
      "2.4371358629542126 free 3\n",
      "2.379012663704165 early 4\n",
      "2.3467518014859436 section 2\n",
      "2.3310034445178043 show 3\n",
      "2.320640657482258 living 2\n",
      "2.3052950878075977 book 2\n",
      "2.260622647756005 whole 3\n",
      "2.255780023280217 century 2\n",
      "2.250960736844268 began 3\n",
      "2.216311601431094 others 3\n",
      "2.1933572653620095 old 6\n",
      "2.1460811060237925 love 2\n",
      "2.122973531013643 house 5\n",
      "2.1218461351783344 along 3\n",
      "2.0858809864848196 things 3\n",
      "2.04723527138716 making 2\n",
      "2.01002764396656 make 6\n",
      "2.0012501581453366 together 2\n",
      "1.968097950828436 better 3\n",
      "1.9454104105616412 people 6\n",
      "1.8998299796994331 use 4\n",
      "1.866549037933936 used 4\n",
      "1.851926519066394 means 2\n",
      "1.8422956260054328 kind 2\n",
      "1.7793558262315587 part 3\n",
      "1.7163810270701703 children 2\n",
      "1.6996208582127053 large 2\n",
      "1.6968546047198148 john 2\n",
      "1.6935451698184476 way 5\n",
      "1.625776738303258 without 3\n",
      "1.4315198309600308 number 2\n",
      "1.387989642502896 school 2\n",
      "1.304364655474784 found 2\n",
      "1.256996966651895 around 2\n",
      "1.1555587238064067 came 2\n",
      "1.1459586500773873 since 2\n",
      "1.0656709944540652 first 4\n",
      "1.0162162738515783 life 2\n",
      "0.9525522608589398 work 2\n",
      "0.9395142665208098 see 2\n",
      "0.9202705681281828 world 2\n",
      "0.7458155343071637 much 2\n",
      "0.007288990349239753 said 2\n"
     ]
    }
   ],
   "source": [
    "# Sorting by scores:\n",
    "for k,v in sorted(makerness.items(), key=lambda x:x[1][0], reverse=True): print(v[0],k,v[1])"
   ]
  },
  {
   "cell_type": "code",
   "execution_count": 60,
   "metadata": {
    "collapsed": false
   },
   "outputs": [],
   "source": [
    "OUTPUT_FOLDER = \"./output/\"\n",
    "csvfile_name = OUTPUT_FOLDER + \"makerness_\" + output_fname + \".csv\"\n",
    "with open(csvfile_name, 'w') as csvfile:\n",
    "    thewriter = csv.writer(csvfile, delimiter=',')\n",
    "    for k,v in sorted(makerness.items(), key=lambda x:x[1][0], reverse=True):\n",
    "        thewriter.writerow([k,v[0],v[1]])"
   ]
  },
  {
   "cell_type": "code",
   "execution_count": null,
   "metadata": {
    "collapsed": true
   },
   "outputs": [],
   "source": []
  }
 ],
 "metadata": {
  "kernelspec": {
   "display_name": "Python 3",
   "language": "python",
   "name": "python3"
  },
  "language_info": {
   "codemirror_mode": {
    "name": "ipython",
    "version": 3
   },
   "file_extension": ".py",
   "mimetype": "text/x-python",
   "name": "python",
   "nbconvert_exporter": "python",
   "pygments_lexer": "ipython3",
   "version": "3.6.0"
  }
 },
 "nbformat": 4,
 "nbformat_minor": 2
}
