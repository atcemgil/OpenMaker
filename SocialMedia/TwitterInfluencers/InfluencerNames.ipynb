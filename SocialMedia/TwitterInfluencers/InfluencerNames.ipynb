{
 "cells": [
  {
   "cell_type": "code",
   "execution_count": 85,
   "metadata": {
    "collapsed": true
   },
   "outputs": [],
   "source": [
    "import requests"
   ]
  },
  {
   "cell_type": "code",
   "execution_count": 105,
   "metadata": {
    "collapsed": true
   },
   "outputs": [],
   "source": [
    "api_url = 'http://138.68.92.181:8484/api/'"
   ]
  },
  {
   "cell_type": "code",
   "execution_count": 106,
   "metadata": {
    "collapsed": false
   },
   "outputs": [],
   "source": [
    "resp = requests.get(api_url + 'get_themes') "
   ]
  },
  {
   "cell_type": "code",
   "execution_count": 107,
   "metadata": {
    "collapsed": false
   },
   "outputs": [
    {
     "data": {
      "text/plain": [
       "{u'themes': [{u'name': u'Printer'},\n",
       "  {u'name': u'RaspberryPi'},\n",
       "  {u'name': u'Arduino'}]}"
      ]
     },
     "execution_count": 107,
     "metadata": {},
     "output_type": "execute_result"
    }
   ],
   "source": [
    "resp.json()"
   ]
  },
  {
   "cell_type": "code",
   "execution_count": 108,
   "metadata": {
    "collapsed": false
   },
   "outputs": [],
   "source": [
    "influencer_names = list()\n",
    "for theme in resp.json()['themes']:\n",
    "    tname = theme['name']\n",
    "    rurl = api_url + 'get_influencers/' + tname\n",
    "    resp = requests.get(rurl)\n",
    "    influencers = resp.json()['influencers']\n",
    "    for influencer in influencers:\n",
    "        name = influencer['username']\n",
    "        if  name in influencer_names: continue\n",
    "        influencer_names.append(name)"
   ]
  },
  {
   "cell_type": "code",
   "execution_count": 110,
   "metadata": {
    "collapsed": false
   },
   "outputs": [
    {
     "name": "stdout",
     "output_type": "stream",
     "text": [
      "52\n"
     ]
    }
   ],
   "source": [
    "print len(influencer_names)"
   ]
  },
  {
   "cell_type": "code",
   "execution_count": 111,
   "metadata": {
    "collapsed": false
   },
   "outputs": [
    {
     "name": "stdout",
     "output_type": "stream",
     "text": [
      "3dprintindustry\n",
      "3DPrintGirl\n",
      "3dersorg\n",
      "3dsystems\n",
      "shapeways\n",
      "makerbot\n",
      "fabbaloo\n",
      "3DHubs\n",
      "3DPrintBoard\n",
      "ColorFabb\n",
      "My3DPrinting\n",
      "3dprinting\n",
      "3d_printers\n",
      "3dprinting3d\n",
      "3dprintingcom\n",
      "Ultimaker\n",
      "make\n",
      "imaterialise\n",
      "3DPrintingFans\n",
      "3DPrintingIt\n",
      "Raspberry_Pi\n",
      "htpc_guides\n",
      "hackaday\n",
      "adafruit\n",
      "lifehacker\n",
      "Pi_Borg\n",
      "pimoroni\n",
      "RPiSpy\n",
      "TheMagP1\n",
      "ThePiHut\n",
      "TabTimes\n",
      "androidcentral\n",
      "CodeClub\n",
      "RSComponents\n",
      "xKaliSec\n",
      "linuxfoundation\n",
      "element14\n",
      "StackSocial\n",
      "makerfaire\n",
      "ModMyPi\n",
      "arduino\n",
      "sparkfun\n",
      "instructables\n",
      "mbanzi\n",
      "dangerousproto\n",
      "freetronics\n",
      "seeedstudio\n",
      "MicrochipMakes\n",
      "RealSexyCyborg\n",
      "planetarduino\n",
      "MakerShed\n",
      "arduinoblog\n"
     ]
    }
   ],
   "source": [
    "for name in influencer_names: print name"
   ]
  }
 ],
 "metadata": {
  "kernelspec": {
   "display_name": "Python 2",
   "language": "python",
   "name": "python2"
  },
  "language_info": {
   "codemirror_mode": {
    "name": "ipython",
    "version": 2
   },
   "file_extension": ".py",
   "mimetype": "text/x-python",
   "name": "python",
   "nbconvert_exporter": "python",
   "pygments_lexer": "ipython2",
   "version": "2.7.11"
  }
 },
 "nbformat": 4,
 "nbformat_minor": 1
}
